{
 "cells": [
  {
   "cell_type": "markdown",
   "metadata": {},
   "source": [
    "<a href='https://www.darshan.ac.in/'> <img src='https://www.darshan.ac.in/Content/media/DU_Logo.svg' width=\"250\" height=\"300\"/></a>\n",
    "<pre>\n",
    "<center><b><h1>Python Programming - 2301CS404</b></center>\n",
    "<center><b><h1>Lab - 7</b></center>    \n",
    "<center><b><h1>KACHA MIHIR | 23010101118 | 21/1/2025 </b></center>    \n",
    "<pre>"
   ]
  },
  {
   "cell_type": "markdown",
   "metadata": {},
   "source": [
    "# Set & Dictionary"
   ]
  },
  {
   "cell_type": "markdown",
   "metadata": {},
   "source": [
    "### 01) WAP to iterate over a set."
   ]
  },
  {
   "cell_type": "code",
   "execution_count": 2,
   "metadata": {},
   "outputs": [
    {
     "name": "stdout",
     "output_type": "stream",
     "text": [
      "1\n",
      "naam ekadu\n",
      "22\n"
     ]
    }
   ],
   "source": [
    "s = {1,22,\"naam ekadu\"}\n",
    "\n",
    "for i in s:\n",
    "    print(i)\n",
    "    \n",
    "# output because set is inodered\n"
   ]
  },
  {
   "cell_type": "markdown",
   "metadata": {},
   "source": [
    "### 02) WAP to convert set into list, string and tuple."
   ]
  },
  {
   "cell_type": "code",
   "execution_count": 5,
   "metadata": {},
   "outputs": [
    {
     "name": "stdout",
     "output_type": "stream",
     "text": [
      "[65, 'naam ekadu', 34, 1, 69, 22, 78]\n",
      "{65, 'naam ekadu', 34, 1, 69, 22, 78}\n",
      "<class 'str'>\n",
      "(65, 'naam ekadu', 34, 1, 69, 22, 78)\n"
     ]
    }
   ],
   "source": [
    "s = {1,22,\"naam ekadu\",34,65,78,69}\n",
    "\n",
    "li = list(s)\n",
    "print(li)\n",
    "\n",
    "string = str(s)\n",
    "print(string)\n",
    "print(type(string))\n",
    "\n",
    "tp = tuple(s)\n",
    "print(tp)"
   ]
  },
  {
   "cell_type": "markdown",
   "metadata": {},
   "source": [
    "### 03) WAP to find Maximum and Minimum from a set."
   ]
  },
  {
   "cell_type": "code",
   "execution_count": 9,
   "metadata": {},
   "outputs": [
    {
     "name": "stdout",
     "output_type": "stream",
     "text": [
      "78\n",
      "1\n"
     ]
    }
   ],
   "source": [
    "s = {1,22,34,65,78,69}\n",
    "\n",
    "print(max(s))\n",
    "\n",
    "print(min(s))\n",
    "\n",
    "    \n",
    "\n"
   ]
  },
  {
   "cell_type": "markdown",
   "metadata": {},
   "source": [
    "### 04) WAP to perform union of two sets."
   ]
  },
  {
   "cell_type": "code",
   "execution_count": 10,
   "metadata": {},
   "outputs": [
    {
     "name": "stdout",
     "output_type": "stream",
     "text": [
      "{65, 34, 1, 'naam ekadu', 69, 78, 22}\n"
     ]
    }
   ],
   "source": [
    "s = {1,22,34,65,78,69}\n",
    "s1 = {1,22,\"naam ekadu\"}\n",
    "\n",
    "print(s.union(s1))\n"
   ]
  },
  {
   "cell_type": "markdown",
   "metadata": {},
   "source": [
    "### 05) WAP to check if two lists have at-least one element common."
   ]
  },
  {
   "cell_type": "code",
   "execution_count": 12,
   "metadata": {},
   "outputs": [
    {
     "name": "stdout",
     "output_type": "stream",
     "text": [
      "{1, 22}\n"
     ]
    }
   ],
   "source": [
    "s = {1,22,34,65,78,69}\n",
    "s1 = {1,22,\"naam ekadu\"}\n",
    "\n",
    "print(s.intersection(s1))"
   ]
  },
  {
   "cell_type": "markdown",
   "metadata": {},
   "source": [
    "### 06) WAP to remove duplicates from list."
   ]
  },
  {
   "cell_type": "code",
   "execution_count": 14,
   "metadata": {},
   "outputs": [
    {
     "name": "stdout",
     "output_type": "stream",
     "text": [
      "[65, 1, 34, 33, 69, 43, 78, 22, 56]\n"
     ]
    }
   ],
   "source": [
    "li = [1,22,34,65,78,69,34,56,33,22,1,43]\n",
    "\n",
    "li = list(set(li))\n",
    "\n",
    "print(li)"
   ]
  },
  {
   "cell_type": "markdown",
   "metadata": {},
   "source": [
    "### 07) WAP to find unique words in the given string."
   ]
  },
  {
   "cell_type": "code",
   "execution_count": 2,
   "metadata": {},
   "outputs": [
    {
     "name": "stdout",
     "output_type": "stream",
     "text": [
      "{'studing', 'python', 'am', 'mihir', 'i'}\n"
     ]
    }
   ],
   "source": [
    "string = \"i am mihir i am studing python\"\n",
    "\n",
    "li = string.split(\" \")\n",
    "\n",
    "s = set(li)\n",
    "\n",
    "print(s)"
   ]
  },
  {
   "cell_type": "markdown",
   "metadata": {},
   "source": [
    "### 08) WAP to remove common elements of set A & B from set A."
   ]
  },
  {
   "cell_type": "code",
   "execution_count": 3,
   "metadata": {},
   "outputs": [
    {
     "name": "stdout",
     "output_type": "stream",
     "text": [
      "{65, 34, 69, 78}\n"
     ]
    }
   ],
   "source": [
    "a = {1,22,34,65,78,69}\n",
    "b = {1,22,\"naam ekadu\"}\n",
    "\n",
    "a = a-b\n",
    "\n",
    "print(a)"
   ]
  },
  {
   "cell_type": "markdown",
   "metadata": {},
   "source": [
    "### 09) WAP to check whether two given strings are anagram or not using set."
   ]
  },
  {
   "cell_type": "code",
   "execution_count": 19,
   "metadata": {},
   "outputs": [
    {
     "name": "stdout",
     "output_type": "stream",
     "text": [
      "The strings are not anagrams.\n"
     ]
    }
   ],
   "source": [
    "str1 = \"fuul\"\n",
    "str2 = \"full\"\n",
    "\n",
    "if len(str1) != len(str2) or set(str1) != set(str2):\n",
    "    print(\"The strings not are anagrams.\")\n",
    "else:\n",
    "    if set(str1) == set(str2):\n",
    "        for i in set(str1):\n",
    "            if str1.count(i) != str2.count(i):\n",
    "                print(\"The strings are not anagrams.\")\n",
    "                break\n",
    "        else:\n",
    "            print(\"The strings not are anagrams.\")"
   ]
  },
  {
   "cell_type": "markdown",
   "metadata": {},
   "source": [
    "### 10) WAP to find common elements in three lists using set."
   ]
  },
  {
   "cell_type": "code",
   "execution_count": 4,
   "metadata": {},
   "outputs": [
    {
     "name": "stdout",
     "output_type": "stream",
     "text": [
      "{7}\n"
     ]
    }
   ],
   "source": [
    "li1 = [1, 2, 3, 4, 5, 6, 7]\n",
    "li2 = [7, 8, 9, 0, -1, -2, -3]\n",
    "li3 = [10, 11, 12, 7, 13, 14]\n",
    "\n",
    "print(set(li1) & set(li2) & set(li3))"
   ]
  },
  {
   "cell_type": "markdown",
   "metadata": {},
   "source": [
    "### 11) WAP to count number of vowels in given string using set."
   ]
  },
  {
   "cell_type": "code",
   "execution_count": 6,
   "metadata": {},
   "outputs": [
    {
     "name": "stdout",
     "output_type": "stream",
     "text": [
      "2\n"
     ]
    }
   ],
   "source": [
    "str = \"mihir\"\n",
    "\n",
    "vowels = set(\"aeiou\")\n",
    "count = 0\n",
    "\n",
    "for i in str.lower():\n",
    "    if i in vowels:\n",
    "        count += 1\n",
    "\n",
    "print(count)"
   ]
  },
  {
   "cell_type": "markdown",
   "metadata": {},
   "source": [
    "### 12) WAP to check if a given string is binary string or not."
   ]
  },
  {
   "cell_type": "code",
   "execution_count": 11,
   "metadata": {},
   "outputs": [
    {
     "name": "stdout",
     "output_type": "stream",
     "text": [
      "String is binary.\n"
     ]
    }
   ],
   "source": [
    "str = \"01011010101110\"\n",
    "\n",
    "if set(str) <= set(\"01\"):\n",
    "    print(\"String is binary.\")\n",
    "else:\n",
    "    print(\"String is not binary.\")"
   ]
  },
  {
   "cell_type": "markdown",
   "metadata": {},
   "source": [
    "### 13) WAP to sort dictionary by key or value."
   ]
  },
  {
   "cell_type": "code",
   "execution_count": 3,
   "metadata": {},
   "outputs": [
    {
     "name": "stdout",
     "output_type": "stream",
     "text": [
      "[10, 100, 1000]\n"
     ]
    }
   ],
   "source": [
    "di = dict()\n",
    "di[10] = 1000\n",
    "di[2] = 100\n",
    "di[3] = 10\n",
    "\n",
    "\n",
    "di = sorted(di.values())\n",
    "\n",
    "print(di)"
   ]
  },
  {
   "cell_type": "code",
   "execution_count": 5,
   "metadata": {},
   "outputs": [
    {
     "name": "stdout",
     "output_type": "stream",
     "text": [
      "[(2, 100), (3, 10), (10, 1000)]\n"
     ]
    }
   ],
   "source": [
    "di = dict()\n",
    "di[10] = 1000\n",
    "di[2] = 100\n",
    "di[3] = 10\n",
    "\n",
    "\n",
    "di = sorted(di.items())\n",
    "\n",
    "print(di)"
   ]
  },
  {
   "cell_type": "markdown",
   "metadata": {},
   "source": [
    "### 14) WAP to find the sum of all items (values) in a dictionary given by user. (Assume: values are numeric)"
   ]
  },
  {
   "cell_type": "code",
   "execution_count": 13,
   "metadata": {},
   "outputs": [
    {
     "name": "stdout",
     "output_type": "stream",
     "text": [
      "1110\n"
     ]
    }
   ],
   "source": [
    "di = dict()\n",
    "di[0] = 1000\n",
    "di[1] = 100\n",
    "di[2] = 10\n",
    "di[3] = 1\n",
    "\n",
    "\n",
    "di = sum(di.values())\n",
    "\n",
    "print(di)"
   ]
  },
  {
   "cell_type": "markdown",
   "metadata": {},
   "source": [
    "### 15) WAP to handle missing keys in dictionaries.\n",
    "#### Example : Given, dict1 = {'a': 5, 'c': 8, 'e': 2} \n",
    "#### if you look for key = 'd', the message given should be 'Key Not Found', otherwise print the value of 'd' in dict1."
   ]
  },
  {
   "cell_type": "code",
   "execution_count": 15,
   "metadata": {},
   "outputs": [
    {
     "name": "stdout",
     "output_type": "stream",
     "text": [
      "1000\n"
     ]
    }
   ],
   "source": [
    "di = dict()\n",
    "di[\"a\"] = 1000\n",
    "di[\"b\"] = 100\n",
    "di[\"c\"] = 10\n",
    "di[\"d\"] = 1\n",
    "\n",
    "key = \"a\"\n",
    "\n",
    "if key in di:\n",
    "    print(di[key])\n",
    "else:\n",
    "    print(\"key not found\")\n",
    "\n"
   ]
  },
  {
   "cell_type": "code",
   "execution_count": null,
   "metadata": {},
   "outputs": [],
   "source": []
  }
 ],
 "metadata": {
  "kernelspec": {
   "display_name": "Python 3 (ipykernel)",
   "language": "python",
   "name": "python3"
  },
  "language_info": {
   "codemirror_mode": {
    "name": "ipython",
    "version": 3
   },
   "file_extension": ".py",
   "mimetype": "text/x-python",
   "name": "python",
   "nbconvert_exporter": "python",
   "pygments_lexer": "ipython3",
   "version": "3.10.9"
  }
 },
 "nbformat": 4,
 "nbformat_minor": 4
}
