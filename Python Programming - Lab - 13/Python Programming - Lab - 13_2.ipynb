{
 "cells": [
  {
   "cell_type": "markdown",
   "metadata": {},
   "source": [
    "<a href='https://www.darshan.ac.in/'> <img src='https://www.darshan.ac.in/Content/media/DU_Logo.svg' width=\"250\" height=\"300\"/></a>\n",
    "<pre>\n",
    "<center><b><h1>Python Programming - 2301CS404</b></center>\n",
    "<center><b><h1>Lab - 13</b></center>    \n",
    "<center><b><h1>KACHA MIHIR | 23010101121 | 11/03/2025</b></center>\n",
    "<pre>"
   ]
  },
  {
   "cell_type": "markdown",
   "metadata": {},
   "source": [
    "## Continued.."
   ]
  },
  {
   "cell_type": "markdown",
   "metadata": {},
   "source": [
    "### 10) Calculate area of a ractangle using object as an argument to a method."
   ]
  },
  {
   "cell_type": "code",
   "execution_count": 1,
   "metadata": {},
   "outputs": [
    {
     "name": "stdout",
     "output_type": "stream",
     "text": [
      "100\n"
     ]
    }
   ],
   "source": [
    "class rectangle:\n",
    "    def __init__(self,len,breadth):\n",
    "        self.len=len\n",
    "        self.breadth=breadth\n",
    "        \n",
    "def  area(obj):\n",
    "    area=obj.len*obj.breadth\n",
    "    print(area)\n",
    "    \n",
    "r1 = rectangle(len=10,breadth=10)\n",
    "\n",
    "area(r1)\n",
    "        "
   ]
  },
  {
   "cell_type": "markdown",
   "metadata": {},
   "source": [
    "### 11) Calculate the area of a square. \n",
    "### Include a Constructor, a method to calculate area named area() and a method named output() that prints the output and is invoked by area()."
   ]
  },
  {
   "cell_type": "code",
   "execution_count": 6,
   "metadata": {},
   "outputs": [
    {
     "name": "stdout",
     "output_type": "stream",
     "text": [
      "400\n"
     ]
    }
   ],
   "source": [
    "class square:\n",
    "    def __init__(self,len,breadth):\n",
    "        self.len=len\n",
    "        self.breadth=breadth\n",
    "               \n",
    "def output(printable):\n",
    "    print(printable)\n",
    "             \n",
    "def area(obj):\n",
    "    area=obj.len*obj.breadth\n",
    "    output(area)\n",
    "    \n",
    "s1=square(20,20)\n",
    "\n",
    "area(s1)"
   ]
  },
  {
   "cell_type": "markdown",
   "metadata": {},
   "source": [
    "### 12) Calculate the area of a rectangle. \n",
    "### Include a Constructor, a method to calculate area named area() and a method named output() that prints the output and is invoked by area().\n",
    "### Also define a class method that compares the two sides of reactangle. An object is instantiated only if the two sides are different; otherwise a message should be displayed : THIS IS SQUARE."
   ]
  },
  {
   "cell_type": "code",
   "execution_count": 17,
   "metadata": {},
   "outputs": [
    {
     "name": "stdout",
     "output_type": "stream",
     "text": [
      "this is saquare\n"
     ]
    }
   ],
   "source": [
    "class rectangle:\n",
    "    def __init__(self,len,breadth):\n",
    "        self.len=len\n",
    "        self.breadth=breadth\n",
    "        \n",
    "    @classmethod\n",
    "    def createrectangle(rec,len,breadth):\n",
    "        if(len==breadth):\n",
    "            print('this is saquare')\n",
    "            return None\n",
    "        else:\n",
    "            return rec(len,breadth)\n",
    "        \n",
    "               \n",
    "def output(printable):\n",
    "    print(printable)\n",
    "             \n",
    "def area(obj):\n",
    "    area=obj.len*obj.breadth\n",
    "    output(area)\n",
    "    \n",
    "\n",
    "r1 = rectangle.createrectangle(20,20)\n",
    "\n",
    "if r1:\n",
    "    area(r1)\n",
    "    \n",
    "\n",
    "\n"
   ]
  },
  {
   "cell_type": "markdown",
   "metadata": {},
   "source": [
    "### 13) Define a class Square having a private attribute \"side\". \n",
    "### Implement get_side and set_side methods to accees the private attribute from outside of the class."
   ]
  },
  {
   "cell_type": "code",
   "execution_count": 19,
   "metadata": {},
   "outputs": [
    {
     "name": "stdout",
     "output_type": "stream",
     "text": [
      "Side of square: 8\n",
      "Area of square: 64\n",
      "New side of square: 11\n",
      "New area of square: 121\n"
     ]
    }
   ],
   "source": [
    "class Square:\n",
    "    def __init__(self, side):\n",
    "        self.__side = side  \n",
    "    \n",
    "    def get_side(self):\n",
    "        return self.__side\n",
    "    \n",
    "    def set_side(self, side):\n",
    "        self.__side = side\n",
    "    \n",
    "    def calculate_area(self):\n",
    "        return self.__side ** 2\n",
    "\n",
    "\n",
    "sq = Square(8)\n",
    "print(f\"Side of square: {sq.get_side()}\")\n",
    "print(f\"Area of square: {sq.calculate_area()}\")\n",
    "\n",
    "sq.set_side(11)\n",
    "print(f\"New side of square: {sq.get_side()}\")\n",
    "print(f\"New area of square: {sq.calculate_area()}\")    "
   ]
  },
  {
   "cell_type": "markdown",
   "metadata": {},
   "source": [
    "### 14) Create a class Profit that has a method named getProfit that accepts profit from the user.\n",
    "### Create a class Loss that has a method named getLoss that accepts loss from the user.\n",
    "### Create a class BalanceSheet that inherits from both classes Profit and Loss and calculates the balanace. It has two methods getBalance() and printBalance()."
   ]
  },
  {
   "cell_type": "code",
   "execution_count": 20,
   "metadata": {},
   "outputs": [
    {
     "name": "stdout",
     "output_type": "stream",
     "text": [
      "Enter profit amount: 10000\n",
      "Enter loss amount: 2343\n",
      "Profit: $10000.0\n",
      "Loss: $2343.0\n",
      "Balance: $7657.0\n"
     ]
    }
   ],
   "source": [
    "class Profit:\n",
    "    def __init__(self):\n",
    "        self.profit = 0\n",
    "    \n",
    "    def getProfit(self):\n",
    "        self.profit = float(input(\"Enter profit amount: \"))\n",
    "        return self.profit\n",
    "\n",
    "class Loss:\n",
    "    def __init__(self):\n",
    "        self.loss = 0\n",
    "    \n",
    "    def getLoss(self):\n",
    "        self.loss = float(input(\"Enter loss amount: \"))\n",
    "        return self.loss\n",
    "\n",
    "class BalanceSheet(Profit, Loss):\n",
    "    def __init__(self):\n",
    "        Profit.__init__(self)\n",
    "        Loss.__init__(self)\n",
    "        self.balance = 0\n",
    "    \n",
    "    def getBalance(self):\n",
    "        self.balance = self.profit - self.loss\n",
    "        return self.balance\n",
    "    \n",
    "    def printBalance(self):\n",
    "        print(f\"Profit: ${self.profit}\")\n",
    "        print(f\"Loss: ${self.loss}\")\n",
    "        print(f\"Balance: ${self.balance}\")\n",
    "\n",
    "        \n",
    "balance_sheet = BalanceSheet()\n",
    "balance_sheet.getProfit()\n",
    "balance_sheet.getLoss()\n",
    "balance_sheet.getBalance()\n",
    "balance_sheet.printBalance()"
   ]
  },
  {
   "cell_type": "markdown",
   "metadata": {},
   "source": [
    "### 15) WAP to demonstrate all types of inheritance."
   ]
  },
  {
   "cell_type": "code",
   "execution_count": 21,
   "metadata": {},
   "outputs": [
    {
     "name": "stdout",
     "output_type": "stream",
     "text": [
      "\n",
      "Single Inheritance:\n",
      "This is parent method\n",
      "This is child method\n",
      "\n",
      "Multiple Inheritance:\n",
      "This is father method\n",
      "This is mother method\n",
      "This is child2 method\n",
      "\n",
      "Multilevel Inheritance:\n",
      "This is grandparent method\n",
      "This is parent2 method\n",
      "This is child3 method\n",
      "\n",
      "Hierarchical Inheritance:\n",
      "This is parent3 method\n",
      "This is childA method\n",
      "This is parent3 method\n",
      "This is childB method\n",
      "\n",
      "Hybrid Inheritance:\n",
      "This is base method\n",
      "This is derived1 method\n",
      "This is derived2 method\n",
      "This is derived of derived method\n"
     ]
    }
   ],
   "source": [
    "class Parent:\n",
    "    def __init__(self):\n",
    "        self.parent_attribute = \"This is from parent\"\n",
    "    \n",
    "    def parent_method(self):\n",
    "        print(\"This is parent method\")\n",
    "\n",
    "class Child(Parent):\n",
    "    def __init__(self):\n",
    "        super().__init__()\n",
    "        self.child_attribute = \"This is from child\"\n",
    "    \n",
    "    def child_method(self):\n",
    "        print(\"This is child method\")\n",
    "\n",
    "class Father:\n",
    "    def father_method(self):\n",
    "        print(\"This is father method\")\n",
    "\n",
    "class Mother:\n",
    "    def mother_method(self):\n",
    "        print(\"This is mother method\")\n",
    "\n",
    "class Child2(Father, Mother):\n",
    "    def child_method(self):\n",
    "        print(\"This is child2 method\")\n",
    "\n",
    "class Grandparent:\n",
    "    def grandparent_method(self):\n",
    "        print(\"This is grandparent method\")\n",
    "\n",
    "class Parent2(Grandparent):\n",
    "    def parent_method(self):\n",
    "        print(\"This is parent2 method\")\n",
    "\n",
    "class Child3(Parent2):\n",
    "    def child_method(self):\n",
    "        print(\"This is child3 method\")\n",
    "\n",
    "class Parent3:\n",
    "    def parent_method(self):\n",
    "        print(\"This is parent3 method\")\n",
    "\n",
    "class ChildA(Parent3):\n",
    "    def child_a_method(self):\n",
    "        print(\"This is childA method\")\n",
    "\n",
    "class ChildB(Parent3):\n",
    "    def child_b_method(self):\n",
    "        print(\"This is childB method\")\n",
    "\n",
    "\n",
    "class Base:\n",
    "    def base_method(self):\n",
    "        print(\"This is base method\")\n",
    "\n",
    "class Derived1(Base):\n",
    "    def derived1_method(self):\n",
    "        print(\"This is derived1 method\")\n",
    "\n",
    "class Derived2(Base):\n",
    "    def derived2_method(self):\n",
    "        print(\"This is derived2 method\")\n",
    "\n",
    "class DerivedOfDerived(Derived1, Derived2):\n",
    "    def derived_of_derived_method(self):\n",
    "        print(\"This is derived of derived method\")\n",
    "\n",
    "\n",
    "print(\"\\nSingle Inheritance:\")\n",
    "child = Child()\n",
    "child.parent_method()\n",
    "child.child_method()\n",
    "\n",
    "print(\"\\nMultiple Inheritance:\")\n",
    "child2 = Child2()\n",
    "child2.father_method()\n",
    "child2.mother_method()\n",
    "child2.child_method()\n",
    "\n",
    "print(\"\\nMultilevel Inheritance:\")\n",
    "child3 = Child3()\n",
    "child3.grandparent_method()\n",
    "child3.parent_method()\n",
    "child3.child_method()\n",
    "\n",
    "print(\"\\nHierarchical Inheritance:\")\n",
    "childA = ChildA()\n",
    "childB = ChildB()\n",
    "childA.parent_method()\n",
    "childA.child_a_method()\n",
    "childB.parent_method()\n",
    "childB.child_b_method()\n",
    "\n",
    "print(\"\\nHybrid Inheritance:\")\n",
    "derived_of_derived = DerivedOfDerived()\n",
    "derived_of_derived.base_method()\n",
    "derived_of_derived.derived1_method()\n",
    "derived_of_derived.derived2_method()\n",
    "derived_of_derived.derived_of_derived_method()"
   ]
  },
  {
   "cell_type": "markdown",
   "metadata": {},
   "source": [
    "### 16) Create a Person class with a constructor that takes two arguments name and age. \n",
    "### Create a child class Employee that inherits from Person and adds a new attribute salary. \n",
    "### Override the __init__ method in Employee to call the parent class's __init__ method using the super() and then initialize the salary attribute."
   ]
  },
  {
   "cell_type": "code",
   "execution_count": 23,
   "metadata": {},
   "outputs": [
    {
     "name": "stdout",
     "output_type": "stream",
     "text": [
      "Name: Mihir Kacha, Age: 21\n",
      "Salary: $5000000\n"
     ]
    }
   ],
   "source": [
    "class Person:\n",
    "    def __init__(self, name, age):\n",
    "        self.name = name\n",
    "        self.age = age\n",
    "    \n",
    "    def display_info(self):\n",
    "        print(f\"Name: {self.name}, Age: {self.age}\")\n",
    "\n",
    "class Employee(Person):\n",
    "    def __init__(self, name, age, salary):\n",
    "        super().__init__(name, age)  \n",
    "        self.salary = salary\n",
    "    \n",
    "    def display_info(self):\n",
    "        super().display_info()\n",
    "        print(f\"Salary: ${self.salary}\")\n",
    "\n",
    "# Create an employee\n",
    "employee = Employee(\"Mihir Kacha\", 21, 5000000)\n",
    "employee.display_info()"
   ]
  },
  {
   "cell_type": "markdown",
   "metadata": {},
   "source": [
    "### 17) Create a Shape class with a draw method that is not implemented. \n",
    "### Create three child classes Rectangle, Circle, and Triangle that implement the draw method with their respective drawing behaviors. \n",
    "### Create a list of Shape objects that includes one instance of each child class, and then iterate through the list and call the draw method on each object."
   ]
  },
  {
   "cell_type": "code",
   "execution_count": 27,
   "metadata": {},
   "outputs": [
    {
     "name": "stdout",
     "output_type": "stream",
     "text": [
      "Drawing a rectangle\n",
      "Drawing a circle\n",
      "Drawing a triangle\n"
     ]
    }
   ],
   "source": [
    "class Shape:\n",
    "    def draw(self):\n",
    "        raise NotImplementedError(\"Subclass must implement abstract method\")\n",
    "\n",
    "class Rectangle(Shape):\n",
    "    def draw(self):\n",
    "        print(\"Drawing a rectangle\")\n",
    "\n",
    "class Circle(Shape):\n",
    "    def draw(self):\n",
    "        print(\"Drawing a circle\")\n",
    "\n",
    "class Triangle(Shape):\n",
    "    def draw(self):\n",
    "        print(\"Drawing a triangle\")\n",
    "\n",
    "\n",
    "shapes = [Rectangle(), Circle(), Triangle()]\n",
    "\n",
    "for shape in shapes:\n",
    "    shape.draw()\n",
    "    \n",
    "#run this for erorr\n",
    "# s1= Shape()\n",
    "# s1.draw()"
   ]
  },
  {
   "cell_type": "code",
   "execution_count": null,
   "metadata": {},
   "outputs": [],
   "source": []
  }
 ],
 "metadata": {
  "kernelspec": {
   "display_name": "Python 3 (ipykernel)",
   "language": "python",
   "name": "python3"
  },
  "language_info": {
   "codemirror_mode": {
    "name": "ipython",
    "version": 3
   },
   "file_extension": ".py",
   "mimetype": "text/x-python",
   "name": "python",
   "nbconvert_exporter": "python",
   "pygments_lexer": "ipython3",
   "version": "3.10.9"
  }
 },
 "nbformat": 4,
 "nbformat_minor": 4
}
