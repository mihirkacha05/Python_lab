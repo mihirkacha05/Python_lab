{
 "cells": [
  {
   "cell_type": "markdown",
   "metadata": {},
   "source": [
    "\n",
    "<a href='https://www.darshan.ac.in/'> <img src='https://www.darshan.ac.in/Content/media/DU_Logo.svg' width=\"250\" height=\"300\"/></a>\n",
    "<pre>\n",
    "<center><b><h1>Python Programming - 2301CS404</b></center>\n",
    "<center><b><h1>Lab - 4</b></center>\n",
    "<center><b><h1>KACHA MIHIR | 23010101118 | 17/12/2024 </b></center>  \n",
    "<pre>"
   ]
  },
  {
   "cell_type": "markdown",
   "metadata": {},
   "source": [
    "# String"
   ]
  },
  {
   "cell_type": "markdown",
   "metadata": {},
   "source": [
    "### 01) WAP to check whether the given string is palindrome or not."
   ]
  },
  {
   "cell_type": "code",
   "execution_count": null,
   "metadata": {},
   "outputs": [],
   "source": [
    "s1 = input(\"Enter string: \")\n",
    "\n",
    "if s1 == s1[::-1]:\n",
    "    print(s1, \"is palindrome\")\n",
    "else:\n",
    "    print(s1, \"is not palindrome\")"
   ]
  },
  {
   "cell_type": "markdown",
   "metadata": {},
   "source": [
    "### 02) WAP to reverse the words in the given string."
   ]
  },
  {
   "cell_type": "code",
   "execution_count": null,
   "metadata": {},
   "outputs": [],
   "source": [
    "s1 = input(\"Enter string: \")\n",
    "\n",
    "rev = s1[::-1]\n",
    "rev = rev.split()\n",
    "rev.reverse()\n",
    "rev = \" \".join(rev)\n",
    "print(rev)\n",
    "\n",
    "rev = s1.split()\n",
    "rev.reverse()\n",
    "rev = \" \".join(rev)\n",
    "print(rev)"
   ]
  },
  {
   "cell_type": "markdown",
   "metadata": {},
   "source": [
    "### 03) WAP to remove ith character from given string."
   ]
  },
  {
   "cell_type": "code",
   "execution_count": null,
   "metadata": {},
   "outputs": [],
   "source": [
    "s1 = input(\"Enter string: \")\n",
    "idx = int(input(\"Enter index: \"))\n",
    "\n",
    "s1 = s1[:idx:] + s1[idx + 1]\n",
    "print(s1)"
   ]
  },
  {
   "cell_type": "markdown",
   "metadata": {},
   "source": [
    "### 04) WAP to find length of string without using len function."
   ]
  },
  {
   "cell_type": "code",
   "execution_count": null,
   "metadata": {},
   "outputs": [],
   "source": [
    "s1 = input(\"Enter string: \")\n",
    "l = 0\n",
    "\n",
    "for i in s1:\n",
    "    l += 1\n",
    "print(l)"
   ]
  },
  {
   "cell_type": "markdown",
   "metadata": {},
   "source": [
    "### 05) WAP to print even length word in string."
   ]
  },
  {
   "cell_type": "code",
   "execution_count": null,
   "metadata": {},
   "outputs": [],
   "source": [
    "s1 = input(\"Enter string: \")\n",
    "li = s1.split()\n",
    "li = [i for i in li if len(i) % 2 == 0]\n",
    "\n",
    "str = \" \".join(li)\n",
    "print(str)"
   ]
  },
  {
   "cell_type": "markdown",
   "metadata": {},
   "source": [
    "### 06) WAP to count numbers of vowels in given string."
   ]
  },
  {
   "cell_type": "code",
   "execution_count": null,
   "metadata": {},
   "outputs": [],
   "source": [
    "s1 = input(\"Enter string: \")\n",
    "c = 0\n",
    "\n",
    "for i in s1:\n",
    "    if \"aeiouAEIOU\".find(i) != -1:\n",
    "        c += 1\n",
    "print(c)"
   ]
  },
  {
   "cell_type": "markdown",
   "metadata": {},
   "source": [
    "### 07) WAP to capitalize the first and last character of each word in a string."
   ]
  },
  {
   "cell_type": "code",
   "execution_count": 37,
   "metadata": {},
   "outputs": [
    {
     "name": "stdout",
     "output_type": "stream",
     "text": [
      "HellO I AM YasH \n"
     ]
    }
   ],
   "source": [
    "s1 = input(\"Enter string: \")\n",
    "s1 = s1.title()\n",
    "li = s1.split()\n",
    "s1 = \"\"\n",
    "\n",
    "for i in li:\n",
    "    s1 += i[: len(i) - 1 :] + i[-1].upper() + \" \"\n",
    "\n",
    "\n",
    "print(s1)"
   ]
  },
  {
   "cell_type": "markdown",
   "metadata": {},
   "source": [
    "### 08) WAP to convert given array to string."
   ]
  },
  {
   "cell_type": "code",
   "execution_count": 4,
   "metadata": {},
   "outputs": [
    {
     "name": "stdout",
     "output_type": "stream",
     "text": [
      "1 2 3 4 5 6 7\n"
     ]
    }
   ],
   "source": [
    "arr = [1, 2, 3, 4, 5, 6, 7]\n",
    "s1 = \" \".join(str(i) for i in arr)\n",
    "print(s1)"
   ]
  },
  {
   "cell_type": "markdown",
   "metadata": {},
   "source": [
    "### 09) Check if the password and confirm password is same or not. \n",
    "### In case of only case's mistake, show the error message."
   ]
  },
  {
   "cell_type": "code",
   "execution_count": 6,
   "metadata": {},
   "outputs": [
    {
     "name": "stdout",
     "output_type": "stream",
     "text": [
      "Error: Password and confirm password do not match due to case sensitivity.\n"
     ]
    }
   ],
   "source": [
    "password = input(\"Enter password: \")\n",
    "c_password = input(\"Enter confirm password: \")\n",
    "\n",
    "if password == c_password:\n",
    "    print(\"Password confirmed successfully!\")\n",
    "elif password.lower() == c_password.lower():\n",
    "    print(\"Error: Password and confirm password do not match due to case sensitivity.\")\n",
    "else:\n",
    "    print(\"Error: Password and confirm password do not match.\")"
   ]
  },
  {
   "cell_type": "markdown",
   "metadata": {},
   "source": [
    "### 10) : Display credit card number. \n",
    "### card no. : 1234 5678 9012 3456\n",
    "### display as  : **** **** **** 3456"
   ]
  },
  {
   "cell_type": "code",
   "execution_count": 9,
   "metadata": {},
   "outputs": [
    {
     "name": "stdout",
     "output_type": "stream",
     "text": [
      "Masked card number: ********9123\n"
     ]
    }
   ],
   "source": [
    "cno = input(\"Enter card number: \")\n",
    "\n",
    "maskno = \"*\" * (len(cno) - 4) + cno[len(cno) - 4 : :]\n",
    "print(\"Masked card number:\", maskno)"
   ]
  },
  {
   "cell_type": "markdown",
   "metadata": {},
   "source": [
    "### 11) : Checking if the two strings are Anagram or not.\n",
    "### s1 = decimal and s2 = medical are Anagram"
   ]
  },
  {
   "cell_type": "code",
   "execution_count": 14,
   "metadata": {},
   "outputs": [
    {
     "name": "stdout",
     "output_type": "stream",
     "text": [
      "decimal\n",
      "medical\n",
      "Both are Anagrams.\n"
     ]
    }
   ],
   "source": [
    "s1 = \"decimal\"\n",
    "s2 = \"medical\"\n",
    "print(s1, s2, sep=\"\\n\")\n",
    "\n",
    "s1 = sorted(s1.lower())\n",
    "s2 = sorted(s2.lower())\n",
    "\n",
    "if s1 == s2:\n",
    "    print(\"Both are Anagrams.\")\n",
    "else:\n",
    "    print(\"Both are not Anagrams.\")"
   ]
  },
  {
   "cell_type": "markdown",
   "metadata": {},
   "source": [
    "### 12) : Rearrange the given string. First lowercase then uppercase alphabets.\n",
    "### input : EHlsarwiwhtwMV\n",
    "### output : lsarwiwhtwEHMV"
   ]
  },
  {
   "cell_type": "code",
   "execution_count": 16,
   "metadata": {},
   "outputs": [
    {
     "name": "stdout",
     "output_type": "stream",
     "text": [
      "Input string EHlsarwiwhtwMV\n",
      "First lowercase then uppercase alphabets\n",
      "lsarwiwhtwEHMV\n"
     ]
    }
   ],
   "source": [
    "s1 = input(\"Enter string\")\n",
    "print(\"Input string\", s1)\n",
    "lower = []\n",
    "upper = []\n",
    "\n",
    "for i in s1:\n",
    "    if i.islower():\n",
    "        lower.append(i)\n",
    "    else:\n",
    "        upper.append(i)\n",
    "s1 = \"\".join(lower) + \"\".join(upper)\n",
    "\n",
    "print(\"First lowercase then uppercase alphabets\")\n",
    "print(s1)"
   ]
  }
 ],
 "metadata": {
  "kernelspec": {
   "display_name": "Python 3 (ipykernel)",
   "language": "python",
   "name": "python3"
  },
  "language_info": {
   "codemirror_mode": {
    "name": "ipython",
    "version": 3
   },
   "file_extension": ".py",
   "mimetype": "text/x-python",
   "name": "python",
   "nbconvert_exporter": "python",
   "pygments_lexer": "ipython3",
   "version": "3.10.9"
  }
 },
 "nbformat": 4,
 "nbformat_minor": 4
}
