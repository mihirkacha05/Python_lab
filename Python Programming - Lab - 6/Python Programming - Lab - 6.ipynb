{
 "cells": [
  {
   "cell_type": "markdown",
   "metadata": {},
   "source": [
    "<a href='https://www.darshan.ac.in/'> <img src='https://www.darshan.ac.in/Content/media/DU_Logo.svg' width=\"250\" height=\"300\"/></a>\n",
    "<pre>\n",
    "<center><b><h1>Python Programming - 2301CS404</b></center>\n",
    "<center><b><h1>Lab - 6</b></center>    \n",
    "<center><b><h1>KACHA MIHIR | 23010101118 | 26/11/2024 </b></center> \n",
    "<pre>"
   ]
  },
  {
   "cell_type": "markdown",
   "metadata": {},
   "source": [
    "# Tuple"
   ]
  },
  {
   "cell_type": "code",
   "execution_count": 6,
   "metadata": {},
   "outputs": [],
   "source": [
    "def createTuple():\n",
    "    n=int(input(\"enter the size of tuple: \"))\n",
    "    li=[]\n",
    "    \n",
    "    for i in range(n):\n",
    "        element = int(input(\"enter element: \"))\n",
    "        li.append(element)\n",
    "        \n",
    "    return tuple(li)"
   ]
  },
  {
   "cell_type": "markdown",
   "metadata": {},
   "source": [
    "### 01) WAP to find sum of tuple elements."
   ]
  },
  {
   "cell_type": "code",
   "execution_count": 7,
   "metadata": {},
   "outputs": [
    {
     "name": "stdout",
     "output_type": "stream",
     "text": [
      "enter the size of tuple: 3\n",
      "enter element: 12\n",
      "enter element: 34\n",
      "enter element: 45\n",
      "91\n"
     ]
    }
   ],
   "source": [
    "t1 = createTuple()\n",
    "\n",
    "sum=sum(t1)\n",
    "print(sum)"
   ]
  },
  {
   "cell_type": "markdown",
   "metadata": {},
   "source": [
    "### 02) WAP to find Maximum and Minimum K elements in a given tuple."
   ]
  },
  {
   "cell_type": "code",
   "execution_count": 8,
   "metadata": {
    "scrolled": true
   },
   "outputs": [
    {
     "name": "stdout",
     "output_type": "stream",
     "text": [
      "enter the size of tuple: 5\n",
      "enter element: 23\n",
      "enter element: 54\n",
      "enter element: 65\n",
      "enter element: 7682\n",
      "enter element: 2\n",
      "enter value of k3\n",
      "max k element:  [54, 65, 7682]\n",
      "min k element:  [2, 23, 54]\n"
     ]
    }
   ],
   "source": [
    "t1 = createTuple()\n",
    "\n",
    "li=sorted(t1)\n",
    "\n",
    "k=int(input(\"enter value of k\"))\n",
    "\n",
    "print(\"max k element: \",li[-k::])\n",
    "print(\"min k element: \",li[:k:])"
   ]
  },
  {
   "cell_type": "markdown",
   "metadata": {},
   "source": [
    "### 03) WAP to find tuples which have all elements divisible by K from a list of tuples."
   ]
  },
  {
   "cell_type": "code",
   "execution_count": 12,
   "metadata": {},
   "outputs": [
    {
     "name": "stdout",
     "output_type": "stream",
     "text": [
      "enter the size of list5\n",
      "enter the size of tuple: 3\n",
      "enter element: 23\n",
      "enter element: 23\n",
      "enter element: 23\n",
      "enter the size of tuple: 3\n",
      "enter element: 45\n",
      "enter element: 324\n",
      "enter element: 34\n",
      "enter the size of tuple: 3\n",
      "enter element: 213\n",
      "enter element: 12\n",
      "enter element: 21\n",
      "enter the size of tuple: 3\n",
      "enter element: 432\n",
      "enter element: 23\n",
      "enter element: 12\n",
      "enter the size of tuple: 3\n",
      "enter element: 12\n",
      "enter element: 34\n",
      "enter element: 23\n",
      "enter the value of k: 23\n",
      "[(23, 23, 23)]\n"
     ]
    }
   ],
   "source": [
    "\n",
    "n=int(input(\"enter the size of list\"))\n",
    "li=[]\n",
    "\n",
    "for i in  range(n):\n",
    "    t1 = createTuple()\n",
    "    li.append(t1)\n",
    "    \n",
    "k=int(input(\"enter the value of k: \"))\n",
    "ans = [i for i in li if all(x%k==0 for x in i)]\n",
    "\n",
    "print(ans)\n"
   ]
  },
  {
   "cell_type": "markdown",
   "metadata": {},
   "source": [
    "### 04) WAP to create a list of tuples from given list having number and its cube in each tuple."
   ]
  },
  {
   "cell_type": "code",
   "execution_count": 1,
   "metadata": {},
   "outputs": [
    {
     "name": "stdout",
     "output_type": "stream",
     "text": [
      "[(1, 1), (2, 8), (3, 27), (4, 64), (5, 125)]\n"
     ]
    }
   ],
   "source": [
    "li=[1,2,3,4,5]\n",
    "\n",
    "ans=[(i,i**3) for i in li]\n",
    "print(ans)"
   ]
  },
  {
   "cell_type": "markdown",
   "metadata": {},
   "source": [
    "### 05) WAP to find tuples with all positive elements from the given list of tuples."
   ]
  },
  {
   "cell_type": "code",
   "execution_count": 13,
   "metadata": {},
   "outputs": [
    {
     "name": "stdout",
     "output_type": "stream",
     "text": [
      "enter the size of list2\n",
      "enter the size of tuple: 3\n",
      "enter element: 23\n",
      "enter element: 243\n",
      "enter element: 45\n",
      "enter the size of tuple: 3\n",
      "enter element: 3\n",
      "enter element: 45\n",
      "enter element: -34\n",
      "enter the value of k: 34\n",
      "[(23, 243, 45)]\n"
     ]
    }
   ],
   "source": [
    "n=int(input(\"enter the size of list\"))\n",
    "li=[]\n",
    "\n",
    "for i in  range(n):\n",
    "    t1 = createTuple()\n",
    "    li.append(t1)\n",
    "    \n",
    "\n",
    "ans = [i for i in li if all(x>0 for x in i)]\n",
    "\n",
    "print(ans)"
   ]
  },
  {
   "cell_type": "markdown",
   "metadata": {},
   "source": [
    "### 06) WAP to add tuple to list and vice – versa."
   ]
  },
  {
   "cell_type": "code",
   "execution_count": 14,
   "metadata": {},
   "outputs": [
    {
     "name": "stdout",
     "output_type": "stream",
     "text": [
      "enter the size of list3\n",
      "enter the size of tuple: 3\n",
      "enter element: 23\n",
      "enter element: 23\n",
      "enter element: 23\n",
      "enter the size of tuple: 3\n",
      "enter element: 54\n",
      "enter element: 45\n",
      "enter element: 45\n",
      "enter the size of tuple: 3\n",
      "enter element: 65\n",
      "enter element: 6667\n",
      "enter element: 76\n",
      "[(23, 23, 23), (54, 45, 45), (65, 6667, 76)]\n"
     ]
    }
   ],
   "source": [
    "n=int(input(\"enter the size of list\"))\n",
    "li=[]\n",
    "\n",
    "for i in  range(n):\n",
    "    t1 = createTuple()\n",
    "    li.append(t1)\n",
    "    \n",
    "\n",
    "print(li)"
   ]
  },
  {
   "cell_type": "code",
   "execution_count": 18,
   "metadata": {},
   "outputs": [
    {
     "name": "stdout",
     "output_type": "stream",
     "text": [
      "enter the size of tuple: 2\n",
      "enter the size of list:2\n",
      "enter the element: 23\n",
      "enter the element: 23\n",
      "enter the size of list:2\n",
      "enter the element: 23\n",
      "enter the element: 23\n",
      "([23, 23], [23, 23])\n"
     ]
    }
   ],
   "source": [
    "n=int(input(\"enter the size of tuple: \"))\n",
    "tol=[]\n",
    "\n",
    "for i in range(n):\n",
    "    m=int(input(\"enter the size of list:\"))\n",
    "    li=[]\n",
    "    \n",
    "    for i in range(m):\n",
    "        x=int(input(\"enter the element: \"))\n",
    "        li.append(x)\n",
    "    tol.append(li)\n",
    "    \n",
    "tup=tuple(tol)\n",
    "print(tup)"
   ]
  },
  {
   "cell_type": "markdown",
   "metadata": {},
   "source": [
    "## 07) WAP to remove tuples of length K."
   ]
  },
  {
   "cell_type": "code",
   "execution_count": 3,
   "metadata": {},
   "outputs": [
    {
     "name": "stdout",
     "output_type": "stream",
     "text": [
      "enter the size of list2\n",
      "enter the size of tuple: 2\n",
      "enter element: 23\n",
      "enter element: 23\n",
      "enter the size of tuple: 4\n",
      "enter element: 23\n",
      "enter element: 23\n",
      "enter element: 23\n",
      "enter element: 23\n",
      "enter value of k4\n",
      "[(23, 23)]\n"
     ]
    }
   ],
   "source": [
    "n=int(input(\"enter the size of list\"))\n",
    "li=[]\n",
    "\n",
    "for i in  range(n):\n",
    "    t1 = createTuple()\n",
    "    li.append(t1)\n",
    "    \n",
    "\n",
    "k=int(input(\"enter value of k\"))\n",
    "\n",
    "for i in li:\n",
    "    if(len(i)==k):\n",
    "        li.remove(i)\n",
    "        \n",
    "print(li)\n",
    "\n",
    "\n"
   ]
  },
  {
   "cell_type": "markdown",
   "metadata": {},
   "source": [
    "### 08) WAP to remove duplicates from tuple."
   ]
  },
  {
   "cell_type": "code",
   "execution_count": 5,
   "metadata": {},
   "outputs": [
    {
     "name": "stdout",
     "output_type": "stream",
     "text": [
      "enter the size of tuple: 4\n",
      "enter element: 23\n",
      "enter element: 23\n",
      "enter element: 45\n",
      "enter element: 76\n",
      "(76, 45, 23)\n"
     ]
    }
   ],
   "source": [
    " t1 = createTuple()\n",
    "t1=tuple(set(t1))\n",
    "print(t1)"
   ]
  },
  {
   "cell_type": "markdown",
   "metadata": {},
   "source": [
    "### 09) WAP to multiply adjacent elements of a tuple and print that resultant tuple."
   ]
  },
  {
   "cell_type": "code",
   "execution_count": 4,
   "metadata": {},
   "outputs": [
    {
     "name": "stdout",
     "output_type": "stream",
     "text": [
      "enter the size of tuple4\n",
      "enter the element: 2\n",
      "enter the element: 4\n",
      "enter the element: 6\n",
      "enter the element: 8\n",
      "[2, 4, 6, 8]\n",
      "(8, 24, 48)\n"
     ]
    }
   ],
   "source": [
    "n=int(input(\"enter the size of tuple\"))\n",
    "li=[]\n",
    "\n",
    "for i in  range(n):\n",
    "    x=int(input(\"enter the element: \"))\n",
    "    li.append(x)\n",
    "    \n",
    "print(li)\n",
    "\n",
    "for i in range(n-1):\n",
    "    li[i]=li[i]*li[i+1]\n",
    "    \n",
    "li.pop()\n",
    "tup=tuple(li)\n",
    "\n",
    "print(tup)\n",
    "    "
   ]
  },
  {
   "cell_type": "markdown",
   "metadata": {},
   "source": [
    "### 10) WAP to test if the given tuple is distinct or not."
   ]
  },
  {
   "cell_type": "code",
   "execution_count": 12,
   "metadata": {},
   "outputs": [
    {
     "name": "stdout",
     "output_type": "stream",
     "text": [
      "enter the size of tuple: 3\n",
      "enter element: 123\n",
      "enter element: 345\n",
      "enter element: 21\n",
      "distinct\n"
     ]
    }
   ],
   "source": [
    "t1 = createTuple()\n",
    "\n",
    "flag = True\n",
    "d1 = dict()\n",
    "d1=d1.fromkeys(t1,0)\n",
    "\n",
    "for i in t1:\n",
    "    d1[i]+=1\n",
    "    if(d1[i]>1):\n",
    "        flag = False\n",
    "        break\n",
    "        \n",
    "if(flag):\n",
    "    print(\"distinct\")\n",
    "else:\n",
    "    print(\"not  distinct\")\n",
    "\n",
    "\n"
   ]
  },
  {
   "cell_type": "code",
   "execution_count": null,
   "metadata": {},
   "outputs": [],
   "source": []
  },
  {
   "cell_type": "code",
   "execution_count": null,
   "metadata": {},
   "outputs": [],
   "source": []
  }
 ],
 "metadata": {
  "kernelspec": {
   "display_name": "Python 3 (ipykernel)",
   "language": "python",
   "name": "python3"
  },
  "language_info": {
   "codemirror_mode": {
    "name": "ipython",
    "version": 3
   },
   "file_extension": ".py",
   "mimetype": "text/x-python",
   "name": "python",
   "nbconvert_exporter": "python",
   "pygments_lexer": "ipython3",
   "version": "3.10.9"
  }
 },
 "nbformat": 4,
 "nbformat_minor": 4
}
