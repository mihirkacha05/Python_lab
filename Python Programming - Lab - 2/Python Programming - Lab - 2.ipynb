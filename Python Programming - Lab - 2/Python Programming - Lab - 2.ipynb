{
 "cells": [
  {
   "cell_type": "markdown",
   "metadata": {},
   "source": [
    "\n",
    "<a href='https://www.darshan.ac.in/'> <img src='https://www.darshan.ac.in/Content/media/DU_Logo.svg' width=\"250\" height=\"300\"/></a>\n",
    "<pre>\n",
    "<center><b><h1>Python Programming - 2301CS404</b></center>\n",
    "<center><b><h1>Lab - 2</b></center>    \n",
    "<center><b><h1>KACHA MIHIR | 23010101118 | 03/12/2024 </b></center> \n",
    "<pre>"
   ]
  },
  {
   "cell_type": "markdown",
   "metadata": {},
   "source": [
    "# if..else.."
   ]
  },
  {
   "cell_type": "markdown",
   "metadata": {},
   "source": [
    "### 01) WAP to check whether the given number is positive or negative."
   ]
  },
  {
   "cell_type": "code",
   "execution_count": 2,
   "metadata": {},
   "outputs": [
    {
     "name": "stdout",
     "output_type": "stream",
     "text": [
      "enter a number: -6\n",
      "-6 is negative\n"
     ]
    }
   ],
   "source": [
    "n=int(input(\"enter a number: \"))\n",
    "\n",
    "if (n>=0):\n",
    "    print(n,'is positive')\n",
    "else:\n",
    "    print(n,'is negative')\n",
    "        "
   ]
  },
  {
   "cell_type": "markdown",
   "metadata": {},
   "source": [
    "### 02) WAP to check whether the given number is odd or even."
   ]
  },
  {
   "cell_type": "code",
   "execution_count": 4,
   "metadata": {},
   "outputs": [
    {
     "name": "stdout",
     "output_type": "stream",
     "text": [
      "enter a number: 5\n",
      "5 is odd\n"
     ]
    }
   ],
   "source": [
    "n=int(input(\"enter a number: \"))\n",
    "\n",
    "if (n%2==0):\n",
    "    print(n,'is even')\n",
    "else:\n",
    "    print(n,'is odd')"
   ]
  },
  {
   "cell_type": "markdown",
   "metadata": {},
   "source": [
    "### 03) WAP to find out largest number from given two numbers using simple if and ternary operator."
   ]
  },
  {
   "cell_type": "code",
   "execution_count": 7,
   "metadata": {},
   "outputs": [
    {
     "name": "stdout",
     "output_type": "stream",
     "text": [
      "enter a number1: 5\n",
      "enter a number2: 5\n",
      "5 = 5\n"
     ]
    }
   ],
   "source": [
    "a=int(input(\"enter a number1: \"))\n",
    "b=int(input(\"enter a number2: \"))\n",
    "\n",
    "if (a>b):\n",
    "    print(a,'is largest')\n",
    "elif (b>a):\n",
    "    print(b,'is largest')\n",
    "else:\n",
    "    print(a,\"=\",b,\"both are equal\")"
   ]
  },
  {
   "cell_type": "markdown",
   "metadata": {},
   "source": [
    "### 04) WAP to find out largest number from given three numbers."
   ]
  },
  {
   "cell_type": "code",
   "execution_count": 12,
   "metadata": {},
   "outputs": [
    {
     "name": "stdout",
     "output_type": "stream",
     "text": [
      "enter a number1: 4\n",
      "enter a number2: 7\n",
      "enter a number3: 2\n",
      "7 is largest\n"
     ]
    }
   ],
   "source": [
    "a=int(input(\"enter a number1: \"))\n",
    "b=int(input(\"enter a number2: \"))\n",
    "c=int(input(\"enter a number3: \"))\n",
    "\n",
    "if(a>b):\n",
    "    \n",
    "    if(b>c):\n",
    "        print(a,\"is largest\")\n",
    "    else:\n",
    "        print(c,\"is largest\")\n",
    "else:\n",
    "    if(b>c):\n",
    "        print(b,'is largest')\n",
    "    else:\n",
    "        print(c,'is largest')\n"
   ]
  },
  {
   "cell_type": "markdown",
   "metadata": {},
   "source": [
    "## 05) WAP to check whether the given year is leap year or not.\n",
    "[If a year can be divisible by 4 but not divisible by 100 then it is leap year but if it is divisible by 400 then it is leap year]"
   ]
  },
  {
   "cell_type": "code",
   "execution_count": 15,
   "metadata": {},
   "outputs": [
    {
     "name": "stdout",
     "output_type": "stream",
     "text": [
      "enter a year: 1600\n",
      "1600 is a leap year\n"
     ]
    }
   ],
   "source": [
    "year = int(input(\"enter a year: \"))\n",
    "\n",
    "if((year%4==0 and year%100!=0) or (year%400==0)):\n",
    "    print(year,\"is a leap year\")\n",
    "else:\n",
    "    print(year,'not a leap year ')"
   ]
  },
  {
   "cell_type": "markdown",
   "metadata": {},
   "source": [
    "### 06) WAP in python to display the name of the day according to the number given by the user."
   ]
  },
  {
   "cell_type": "code",
   "execution_count": 27,
   "metadata": {},
   "outputs": [
    {
     "name": "stdout",
     "output_type": "stream",
     "text": [
      "emter a day number: -1\n",
      "friday\n"
     ]
    }
   ],
   "source": [
    "day = int(input('emter a day number: '))-1\n",
    "day = day%7\n",
    "\n",
    "match day:\n",
    "    case (0):\n",
    "        print('sunday')\n",
    "    case (1):\n",
    "        print('monday')\n",
    "    case (2):\n",
    "        print('tuesday')\n",
    "    case (3):\n",
    "        print('wednesday')\n",
    "    case (4):\n",
    "        print('thursday')\n",
    "    case (5):\n",
    "        print('friday')\n",
    "    case (6):\n",
    "        print('saturday')\n",
    "    case _:\n",
    "        print('invalid')\n",
    "    "
   ]
  },
  {
   "cell_type": "markdown",
   "metadata": {},
   "source": [
    "### 07) WAP to implement simple calculator which performs (add,sub,mul,div) of two no. based on user input."
   ]
  },
  {
   "cell_type": "code",
   "execution_count": 29,
   "metadata": {},
   "outputs": [
    {
     "name": "stdout",
     "output_type": "stream",
     "text": [
      "enter a number1: 354\n",
      "enter a operator: -/+\n",
      "enter a number2: 345\n",
      "354 - 345 = 9\n"
     ]
    }
   ],
   "source": [
    "a=int(input(\"enter a number1: \"))\n",
    "choice = input(\"enter a operator: \")\n",
    "b=int(input(\"enter a number2: \"))\n",
    "\n",
    "\n",
    "\n",
    "match (choice[0]):\n",
    "    case ('+'):\n",
    "        print(a,\"+\",b,\"=\",a+b)\n",
    "    case ('-'):\n",
    "        print(a,\"-\",b,\"=\",a-b)\n",
    "    case ('*'):\n",
    "        print(a,\"*\",b,\"=\",a*b)\n",
    "    case ('/'):\n",
    "        print(a,\"/\",b,\"=\",a/b)"
   ]
  },
  {
   "cell_type": "markdown",
   "metadata": {},
   "source": [
    "### 08) WAP to read marks of five subjects. Calculate percentage and print class accordingly. \n",
    "Fail below 35 </br>\n",
    "Pass Class between 35 to 45 </br>\n",
    "Second Class</br>\n",
    "between 45 to 60</br>\n",
    "First Class between 60 to 70</br> \n",
    "Distinction if more than 70"
   ]
  },
  {
   "cell_type": "code",
   "execution_count": 30,
   "metadata": {},
   "outputs": [
    {
     "name": "stdout",
     "output_type": "stream",
     "text": [
      "enter a sub1 mark: 30\n",
      "enter a sub2 mark: 34\n",
      "enter a sub3 mark: 34\n",
      "enter a sub4 mark: 34\n",
      "enter a sub5 mark: 34\n",
      "fail\n"
     ]
    }
   ],
   "source": [
    "sub1=int(input(\"enter a sub1 mark: \"))\n",
    "sub2=int(input(\"enter a sub2 mark: \"))\n",
    "sub3=int(input(\"enter a sub3 mark: \"))\n",
    "sub4=int(input(\"enter a sub4 mark: \"))\n",
    "sub5=int(input(\"enter a sub5 mark: \"))\n",
    "\n",
    "percentage = (sub1 + sub2 + sub3 + sub4 + sub5)/5\n",
    "\n",
    "if(percentage<35):\n",
    "    print('fail')\n",
    "elif(percentage>=35 and percentage<45):\n",
    "    print('pass')\n",
    "elif(percentage>=45 and percentage<60):\n",
    "    print('Second Class')\n",
    "elif(percentage>=60 and percentage<70):\n",
    "    print('first Class')\n",
    "elif(percentage>=70 and percentage<=100):\n",
    "    print('Distinction')\n",
    "else:\n",
    "    print('enter proper mark')\n"
   ]
  },
  {
   "cell_type": "markdown",
   "metadata": {},
   "source": [
    "### 09) Three sides of a triangle are entered through the keyboard, WAP to check whether the triangle is isosceles, equilateral, scalene or right-angled triangle."
   ]
  },
  {
   "cell_type": "code",
   "execution_count": 37,
   "metadata": {},
   "outputs": [
    {
     "name": "stdout",
     "output_type": "stream",
     "text": [
      "enter a side1 : 1\n",
      "enter a side2 : 1\n",
      "enter a side3 : 2\n",
      "isosceles\n"
     ]
    }
   ],
   "source": [
    "side1=int(input(\"enter a side1 : \"))\n",
    "side2=int(input(\"enter a side2 : \"))\n",
    "side3=int(input(\"enter a side3 : \"))\n",
    "\n",
    "if(side1==side2 and side2==side3):\n",
    "    print('equilateral')\n",
    "elif(side1==side2 or side1 == side2 or side2 == side3):\n",
    "    print('isosceles')\n",
    "elif(((side1**2)==(side2**2)+(side3**2))or((side2**2)==(side1**2)+(side3**2))or((side3**2)==(side2**2)+(side1**2))):\n",
    "    print(\"right-angled triangle\")\n",
    "else:\n",
    "    print('triangle is simple')"
   ]
  },
  {
   "cell_type": "markdown",
   "metadata": {},
   "source": [
    "### 10) WAP to find the second largest number among three user input numbers."
   ]
  },
  {
   "cell_type": "code",
   "execution_count": null,
   "metadata": {},
   "outputs": [],
   "source": [
    "a=int(input(\"enter a number1: \"))\n",
    "b=int(input(\"enter a number2: \"))\n",
    "c=int(input(\"enter a number3: \"))\n",
    "\n",
    "if(a>b):\n",
    "    \n",
    "    if(b>c):\n",
    "        print(a,\"is largest\")\n",
    "    else:\n",
    "        print(c,\"is largest\")\n",
    "else:\n",
    "    if(b>c):\n",
    "        print(b,'is largest')\n",
    "    else:\n",
    "        print(c,'is largest')"
   ]
  },
  {
   "cell_type": "markdown",
   "metadata": {},
   "source": [
    "### 11) WAP to calculate electricity bill based on following criteria. Which takes the unit from the user.\n",
    "a. First 1 to 50 units – Rs. 2.60/unit</br>\n",
    "b. Next 50 to 100 units – Rs. 3.25/unit</br>\n",
    "c. Next 100 to 200 units – Rs. 5.26/unit</br>\n",
    "d. above 200 units – Rs. 8.45/unit"
   ]
  },
  {
   "cell_type": "code",
   "execution_count": 39,
   "metadata": {},
   "outputs": [
    {
     "name": "stdout",
     "output_type": "stream",
     "text": [
      "enter a units: 259\n",
      "your bill is 1317.05\n"
     ]
    }
   ],
   "source": [
    "unit =int(input(\"enter a units: \"))\n",
    "bill=0\n",
    "\n",
    "if(unit<=50):\n",
    "    bill=unit*2.60\n",
    "elif(unit>50 and unit<=100):\n",
    "    bill=(50*2.6)+((unit-50)*3.25)\n",
    "elif(unit>100 and unit<=200):\n",
    "     bill=(50*2.6)+(50*3.25)+((unit-100)*5.26)\n",
    "else:\n",
    "    bill=(50*2.6)+(50*3.25)+(100*5.26)+((unit-200)*8.45)\n",
    "    \n",
    "print(\"your bill is\",bill)\n",
    "    \n",
    "    "
   ]
  },
  {
   "cell_type": "code",
   "execution_count": null,
   "metadata": {},
   "outputs": [],
   "source": []
  }
 ],
 "metadata": {
  "kernelspec": {
   "display_name": "Python 3 (ipykernel)",
   "language": "python",
   "name": "python3"
  },
  "language_info": {
   "codemirror_mode": {
    "name": "ipython",
    "version": 3
   },
   "file_extension": ".py",
   "mimetype": "text/x-python",
   "name": "python",
   "nbconvert_exporter": "python",
   "pygments_lexer": "ipython3",
   "version": "3.10.9"
  }
 },
 "nbformat": 4,
 "nbformat_minor": 4
}
