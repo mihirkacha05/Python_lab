{
 "cells": [
  {
   "cell_type": "markdown",
   "metadata": {},
   "source": [
    "\n",
    "<a href='https://www.darshan.ac.in/'> <img src='https://www.darshan.ac.in/Content/media/DU_Logo.svg' width=\"250\" height=\"300\"/></a>\n",
    "<pre>\n",
    "<center><b><h1>Python Programming - 2301CS404</b></center>\n",
    "<center><b><h1>Lab - 5</b></center>    \n",
    "<center><b><h1>KACHA MIHIR | 23010101118 | 24/12/2024 </b></center>\n",
    "<pre>"
   ]
  },
  {
   "cell_type": "markdown",
   "metadata": {},
   "source": [
    "# List"
   ]
  },
  {
   "cell_type": "markdown",
   "metadata": {},
   "source": [
    "### 01) WAP to find sum of all the elements in a List."
   ]
  },
  {
   "cell_type": "code",
   "execution_count": 3,
   "metadata": {},
   "outputs": [
    {
     "name": "stdout",
     "output_type": "stream",
     "text": [
      "Sum: 28\n"
     ]
    }
   ],
   "source": [
    "li = [1, 2, 3, 4, 5, 6, 7]\n",
    "sum = 0\n",
    "\n",
    "for i in li:\n",
    "    sum += i\n",
    "\n",
    "print(\"Sum:\", sum)"
   ]
  },
  {
   "cell_type": "markdown",
   "metadata": {},
   "source": [
    "### 02) WAP to find largest element in a List."
   ]
  },
  {
   "cell_type": "code",
   "execution_count": 17,
   "metadata": {},
   "outputs": [
    {
     "name": "stdout",
     "output_type": "stream",
     "text": [
      "Largest: 7\n"
     ]
    }
   ],
   "source": [
    "li = [-1, 2, -3, 4, -5, 6, 7]\n",
    "# li.sort()  --mutable\n",
    "li = sorted(li)  # immutable\n",
    "largest = li[-1]\n",
    "\n",
    "print(\"Largest:\", largest)"
   ]
  },
  {
   "cell_type": "markdown",
   "metadata": {},
   "source": [
    "### 03) WAP to find the length of a List."
   ]
  },
  {
   "cell_type": "code",
   "execution_count": 20,
   "metadata": {},
   "outputs": [
    {
     "name": "stdout",
     "output_type": "stream",
     "text": [
      "Length of list:  7\n"
     ]
    }
   ],
   "source": [
    "li = [-1, 2, -3, 4, -5, 6, 7]\n",
    "\n",
    "print(\"Length of list:\", len(li))"
   ]
  },
  {
   "cell_type": "markdown",
   "metadata": {},
   "source": [
    "### 04) WAP to interchange first and last elements in a list."
   ]
  },
  {
   "cell_type": "code",
   "execution_count": 21,
   "metadata": {},
   "outputs": [
    {
     "name": "stdout",
     "output_type": "stream",
     "text": [
      "Before: [-1, 2, -3, 4, -5, 6, 7]\n",
      "After: [7, 2, -3, 4, -5, 6, -1]\n"
     ]
    }
   ],
   "source": [
    "li = [-1, 2, -3, 4, -5, 6, 7]\n",
    "print(\"Before:\", li)\n",
    "\n",
    "li[0], li[-1] = li[-1], li[0]\n",
    "\n",
    "print(\"After:\", li)"
   ]
  },
  {
   "cell_type": "markdown",
   "metadata": {},
   "source": [
    "### 05) WAP to split the List into two parts and append the first part to the end."
   ]
  },
  {
   "cell_type": "code",
   "execution_count": 36,
   "metadata": {},
   "outputs": [
    {
     "name": "stdout",
     "output_type": "stream",
     "text": [
      "[4, -5, 6, 77, -1, 2, -3]\n"
     ]
    }
   ],
   "source": [
    "li = [-1, 2, -3, 4, -5, 6, 7]\n",
    "\n",
    "li = li[len(li) // 2 : :] + li[0 : len(li) // 2 :]\n",
    "print(li)"
   ]
  },
  {
   "cell_type": "markdown",
   "metadata": {},
   "source": [
    "### 06) WAP to interchange the elements on two positions entered by a user."
   ]
  },
  {
   "cell_type": "code",
   "execution_count": 56,
   "metadata": {},
   "outputs": [
    {
     "name": "stdout",
     "output_type": "stream",
     "text": [
      "Before: [-1, 2, -3, 4, -5, 6, 7]\n",
      "Enter one position: 1\n",
      "Enter second position: 5\n",
      "After: [-1, 6, -3, 4, -5, 2, 7]\n"
     ]
    }
   ],
   "source": [
    "li = [-1, 2, -3, 4, -5, 6, 7]\n",
    "print(\"Before:\", li)\n",
    "\n",
    "p1 = int(input(\"Enter one position: \"))\n",
    "p2 = int(input(\"Enter second position: \"))\n",
    "\n",
    "if p1 >= len(li) or p2 >= len(li):\n",
    "    print(\"Invalid position\")\n",
    "else:\n",
    "    li[p1], li[p2] = li[p2], li[p1]\n",
    "print(\"After:\", li)"
   ]
  },
  {
   "cell_type": "markdown",
   "metadata": {},
   "source": [
    "### 07) WAP to reverse the list entered by user."
   ]
  },
  {
   "cell_type": "code",
   "execution_count": 41,
   "metadata": {},
   "outputs": [
    {
     "name": "stdout",
     "output_type": "stream",
     "text": [
      "<class 'NoneType'>\n"
     ]
    }
   ],
   "source": [
    "li = [-1, 2, -3, 4, -5, 6, 7]\n",
    "li.reverse()\n",
    "print(li)"
   ]
  },
  {
   "cell_type": "markdown",
   "metadata": {},
   "source": [
    "### 08) WAP to print even numbers in a list."
   ]
  },
  {
   "cell_type": "code",
   "execution_count": 43,
   "metadata": {},
   "outputs": [
    {
     "name": "stdout",
     "output_type": "stream",
     "text": [
      "-2\n",
      "4\n",
      "6\n"
     ]
    }
   ],
   "source": [
    "li = [-1, -2, -3, 4, -5, 6, 7]\n",
    "\n",
    "for i in li:\n",
    "    if i % 2 == 0:\n",
    "        print(i)"
   ]
  },
  {
   "cell_type": "markdown",
   "metadata": {},
   "source": [
    "### 09) WAP to count unique items in a list."
   ]
  },
  {
   "cell_type": "code",
   "execution_count": 55,
   "metadata": {},
   "outputs": [
    {
     "name": "stdout",
     "output_type": "stream",
     "text": [
      "12\n"
     ]
    }
   ],
   "source": [
    "li = [-1, -2, -3, 4, -5, 6, 7, 1, 2, 3, 4, 5, 6, 8, 7]\n",
    "\n",
    "print(len(set(li)))"
   ]
  },
  {
   "cell_type": "markdown",
   "metadata": {},
   "source": [
    "### 10) WAP to copy a list."
   ]
  },
  {
   "cell_type": "code",
   "execution_count": 51,
   "metadata": {},
   "outputs": [
    {
     "name": "stdout",
     "output_type": "stream",
     "text": [
      "[-1, -2, -3, 4, -5, 6, 7, 1, 2, 3, 4, 5, 6, 7]\n"
     ]
    }
   ],
   "source": [
    "li = [-1, -2, -3, 4, -5, 6, 7, 1, 2, 3, 4, 5, 6, 7]\n",
    "li2 = li.copy()\n",
    "print(li2)"
   ]
  },
  {
   "cell_type": "markdown",
   "metadata": {},
   "source": [
    "### 11) WAP to print all odd numbers in a given range."
   ]
  },
  {
   "cell_type": "code",
   "execution_count": 58,
   "metadata": {},
   "outputs": [
    {
     "name": "stdout",
     "output_type": "stream",
     "text": [
      "Enter starting range: 10\n",
      "Enter ending range: 20\n",
      "11\n",
      "13\n",
      "15\n",
      "17\n",
      "19\n"
     ]
    }
   ],
   "source": [
    "a = int(input(\"Enter starting range: \"))\n",
    "b = int(input(\"Enter ending range: \"))\n",
    "\n",
    "for i in range(a, b):\n",
    "    if i % 2 == 1:\n",
    "        print(i)"
   ]
  },
  {
   "cell_type": "markdown",
   "metadata": {},
   "source": [
    "### 12) WAP to count occurrences of an element in a list."
   ]
  },
  {
   "cell_type": "code",
   "execution_count": 72,
   "metadata": {},
   "outputs": [
    {
     "name": "stdout",
     "output_type": "stream",
     "text": [
      "{-1: 1, -2: 1, -3: 1, 4: 2, -5: 1, 6: 2, 7: 2, 1: 1, 2: 1, 3: 1, 5: 1}\n"
     ]
    }
   ],
   "source": [
    "li = [-1, -2, -3, 4, -5, 6, 7, 1, 2, 3, 4, 5, 6, 7]\n",
    "di = dict().fromkeys(li, 0)\n",
    "\n",
    "for i in li:\n",
    "    di[i] = di.get(i) + 1\n",
    "\n",
    "print(di)"
   ]
  },
  {
   "cell_type": "markdown",
   "metadata": {},
   "source": [
    "### 13) WAP to find second largest number in a list."
   ]
  },
  {
   "cell_type": "code",
   "execution_count": 66,
   "metadata": {},
   "outputs": [
    {
     "name": "stdout",
     "output_type": "stream",
     "text": [
      "Second Largest: 6\n"
     ]
    }
   ],
   "source": [
    "li = [-1, 2, -3, 4, -5, 6, 7]\n",
    "# li.sort()\n",
    "slargest = li[-2]\n",
    "\n",
    "print(\"Second Largest:\", slargest)"
   ]
  },
  {
   "cell_type": "markdown",
   "metadata": {},
   "source": [
    "### 14) WAP to extract elements with frequency greater than K."
   ]
  },
  {
   "cell_type": "code",
   "execution_count": null,
   "metadata": {},
   "outputs": [
    {
     "name": "stdout",
     "output_type": "stream",
     "text": [
      "{-1: 1, -2: 1, -3: 1, 4: 2, -5: 1, 6: 2, 7: 2, 1: 1, 2: 1, 3: 1, 5: 1}\n",
      "[4, 6, 7]\n"
     ]
    }
   ],
   "source": [
    "li = [-1, -2, -3, 4, -5, 6, 7, 1, 2, 3, 4, 5, 4, 6, 7]\n",
    "di = dict().fromkeys(li, 0)\n",
    "\n",
    "for i in li:\n",
    "    di[i] = di.get(i) + 1\n",
    "\n",
    "k = int(input(\"Enter frequency: \"))\n",
    "ans = []\n",
    "for i in di:\n",
    "    if di.get(i) > k:\n",
    "        ans.append(i)\n",
    "print(di)\n",
    "print(ans)"
   ]
  },
  {
   "cell_type": "markdown",
   "metadata": {},
   "source": [
    "### 15) WAP to create a list of squared numbers from 0 to 9 with and without using List Comprehension."
   ]
  },
  {
   "cell_type": "code",
   "execution_count": 63,
   "metadata": {},
   "outputs": [
    {
     "name": "stdout",
     "output_type": "stream",
     "text": [
      "[0, 1, 4, 9, 16, 25, 36, 49, 64, 81]\n"
     ]
    }
   ],
   "source": [
    "li = [i**2 for i in range(10)]\n",
    "print(li)"
   ]
  },
  {
   "cell_type": "markdown",
   "metadata": {},
   "source": [
    "### 16) WAP to create a new list (fruit whose name starts with 'b') from the list of fruits given by user."
   ]
  },
  {
   "cell_type": "code",
   "execution_count": 65,
   "metadata": {},
   "outputs": [
    {
     "name": "stdout",
     "output_type": "stream",
     "text": [
      "['banana', 'Banana']\n"
     ]
    }
   ],
   "source": [
    "li = [\"apple\", \"banana\", \"papaya\", \"cherry\", \"Banana\"]\n",
    "li_b = []\n",
    "for i in li:\n",
    "    if i[0] == \"b\" or i[0] == \"B\":\n",
    "        li_b.append(i)\n",
    "\n",
    "print(li_b)"
   ]
  },
  {
   "cell_type": "markdown",
   "metadata": {},
   "source": [
    "### 17) WAP to create a list of common elements from given two lists."
   ]
  },
  {
   "cell_type": "code",
   "execution_count": 11,
   "metadata": {},
   "outputs": [
    {
     "name": "stdout",
     "output_type": "stream",
     "text": [
      "[-1, -2, -3, 4, -5, 6, 7, 1, 2, 3, 4, 5, 4, 6, 7]\n",
      "[6, 7, 1, 2, 3, 4, 5, 4, 6, 7]\n",
      "Common elements:  [1, 2, 3, 4, 5, 6, 7]\n"
     ]
    }
   ],
   "source": [
    "li1 = [-1, -2, -3, 4, -5, 6, 7, 1, 2, 3, 4, 5, 4, 6, 7]\n",
    "li2 = [6, 7, 1, 2, 3, 4, 5, 4, 6, 7]\n",
    "li_ans = list(set(li1) & set(li2))\n",
    "\n",
    "print(li1)\n",
    "print(li2)\n",
    "print(\"Common elements: \", li_ans)"
   ]
  }
 ],
 "metadata": {
  "kernelspec": {
   "display_name": "Python 3 (ipykernel)",
   "language": "python",
   "name": "python3"
  },
  "language_info": {
   "codemirror_mode": {
    "name": "ipython",
    "version": 3
   },
   "file_extension": ".py",
   "mimetype": "text/x-python",
   "name": "python",
   "nbconvert_exporter": "python",
   "pygments_lexer": "ipython3",
   "version": "3.10.9"
  }
 },
 "nbformat": 4,
 "nbformat_minor": 4
}
