{
 "cells": [
  {
   "cell_type": "markdown",
   "metadata": {},
   "source": [
    "<a href='https://www.darshan.ac.in/'> <img src='https://www.darshan.ac.in/Content/media/DU_Logo.svg' width=\"250\" height=\"300\"/></a>\n",
    "<pre>\n",
    "<center><b><h1>Python Programming - 2301CS404</b></center>\n",
    "<center><b><h1>Lab - 8</b></center>    \n",
    "<center><b><h1>KACHA MIHIR | 23010101118 | 28/1/2025 </b></center>\n",
    "<pre>"
   ]
  },
  {
   "cell_type": "markdown",
   "metadata": {},
   "source": [
    "# User Defined Function"
   ]
  },
  {
   "cell_type": "markdown",
   "metadata": {},
   "source": [
    "### 01) Write a function to calculate BMI given mass and height. (BMI = mass/h**2)"
   ]
  },
  {
   "cell_type": "code",
   "execution_count": 6,
   "metadata": {},
   "outputs": [
    {
     "name": "stdout",
     "output_type": "stream",
     "text": [
      "enter weight: 80\n",
      "enter height: 1.86\n",
      "23.12406058503873\n"
     ]
    }
   ],
   "source": [
    "m=float(input(\"enter weight: \"))\n",
    "h=float(input(\"enter height: \"))\n",
    "\n",
    "def bmi(m,h):\n",
    "    return (m/(h**2));\n",
    "\n",
    "print(bmi(m,h))"
   ]
  },
  {
   "cell_type": "markdown",
   "metadata": {},
   "source": [
    "### 02) Write a function that add first n numbers."
   ]
  },
  {
   "cell_type": "code",
   "execution_count": 8,
   "metadata": {},
   "outputs": [
    {
     "name": "stdout",
     "output_type": "stream",
     "text": [
      "enter a number: 2\n",
      "3.0\n"
     ]
    }
   ],
   "source": [
    "n=int(input(\"enter a number: \"))\n",
    "\n",
    "def sumofn(n):\n",
    "    return (n*(n+1))/2;\n",
    "\n",
    "\n",
    "print(sumofn(n))\n"
   ]
  },
  {
   "cell_type": "markdown",
   "metadata": {},
   "source": [
    "### 03) Write a function that returns 1 if the given number is Prime or 0 otherwise."
   ]
  },
  {
   "cell_type": "code",
   "execution_count": 4,
   "metadata": {},
   "outputs": [
    {
     "name": "stdout",
     "output_type": "stream",
     "text": [
      "enter a number: 11\n",
      "1\n"
     ]
    }
   ],
   "source": [
    "n=int(input(\"enter a number: \"))\n",
    "\n",
    "\n",
    "def primeornot(n):\n",
    "    for i in range(2,(n//2)+1,1):\n",
    "        if(n%i==0):\n",
    "            return 0;\n",
    "    return 1;\n",
    "\n",
    "print(primeornot(n))"
   ]
  },
  {
   "cell_type": "markdown",
   "metadata": {},
   "source": [
    "### 04) Write a function that returns the list of Prime numbers between given two numbers."
   ]
  },
  {
   "cell_type": "code",
   "execution_count": 3,
   "metadata": {},
   "outputs": [
    {
     "name": "stdout",
     "output_type": "stream",
     "text": [
      "enter a starting number: 5\n",
      "enter a ending number: 11\n",
      "[5, 7]\n"
     ]
    }
   ],
   "source": [
    "import math\n",
    "n=int(input(\"enter a starting number: \"))\n",
    "m=int(input(\"enter a ending number: \"))\n",
    "\n",
    "list=[]\n",
    "\n",
    "def primelist(n,m):\n",
    "    for i in range(n,m):\n",
    "        if(primeornot(i)==1):\n",
    "            list.append(i);\n",
    "                \n",
    "                \n",
    "primelist(n,m)\n",
    "print(list)\n",
    "                "
   ]
  },
  {
   "cell_type": "markdown",
   "metadata": {},
   "source": [
    "### 05) Write a function that returns True if the given string is Palindrome or False otherwise."
   ]
  },
  {
   "cell_type": "code",
   "execution_count": 30,
   "metadata": {},
   "outputs": [
    {
     "name": "stdout",
     "output_type": "stream",
     "text": [
      "enter a string: 1122\n"
     ]
    },
    {
     "data": {
      "text/plain": [
       "False"
      ]
     },
     "execution_count": 30,
     "metadata": {},
     "output_type": "execute_result"
    }
   ],
   "source": [
    "def palindromeornot(str):\n",
    "    if(str == str[::-1]):\n",
    "        return True\n",
    "    else:\n",
    "        return False\n",
    "    \n",
    "palindromeornot(input(\"enter a string: \"))"
   ]
  },
  {
   "cell_type": "markdown",
   "metadata": {},
   "source": [
    "### 06) Write a function that returns the sum of all the elements of the list."
   ]
  },
  {
   "cell_type": "code",
   "execution_count": 12,
   "metadata": {},
   "outputs": [
    {
     "name": "stdout",
     "output_type": "stream",
     "text": [
      "192\n"
     ]
    }
   ],
   "source": [
    "list=[1,24,45,43,23,56]\n",
    "\n",
    "\n",
    "\n",
    "def sumoflist(list):\n",
    "    sum=0\n",
    "    for i in list:\n",
    "        sum+=i\n",
    "    return sum\n",
    "\n",
    "print(sumoflist(list))"
   ]
  },
  {
   "cell_type": "markdown",
   "metadata": {},
   "source": [
    "### 07) Write a function to calculate the sum of the first element of each tuples inside the list."
   ]
  },
  {
   "cell_type": "code",
   "execution_count": 3,
   "metadata": {},
   "outputs": [
    {
     "name": "stdout",
     "output_type": "stream",
     "text": [
      "113\n"
     ]
    }
   ],
   "source": [
    "li=[(12,23),(45,44),(56,67)]\n",
    "\n",
    "def sumoftp(li):\n",
    "    sum = 0\n",
    "    for i in li:\n",
    "        sum+=i[0]\n",
    "    return sum\n",
    "\n",
    "print(sumoftp(li))"
   ]
  },
  {
   "cell_type": "markdown",
   "metadata": {},
   "source": [
    "### 08) Write a recursive function to find nth term of Fibonacci Series."
   ]
  },
  {
   "cell_type": "code",
   "execution_count": 17,
   "metadata": {},
   "outputs": [
    {
     "name": "stdout",
     "output_type": "stream",
     "text": [
      "enter nth term3\n",
      "1\n"
     ]
    }
   ],
   "source": [
    "def fibo(n):\n",
    "    if(n==0):\n",
    "        return 0\n",
    "    if(n==1):\n",
    "        return 1\n",
    "    return fibo(n-1)+fibo(n-2)\n",
    "\n",
    "term = int(input('enter nth term'))\n",
    "print(fibo(term-1))"
   ]
  },
  {
   "cell_type": "markdown",
   "metadata": {},
   "source": [
    "### 09) Write a function to get the name of the student based on the given rollno.\n",
    "#### Example: Given dict1 = {101:'Ajay', 102:'Rahul', 103:'Jay', 104:'Pooja'} find name of student whose rollno = 103"
   ]
  },
  {
   "cell_type": "code",
   "execution_count": 4,
   "metadata": {},
   "outputs": [
    {
     "name": "stdout",
     "output_type": "stream",
     "text": [
      "Jay\n"
     ]
    }
   ],
   "source": [
    "def getstu(di):\n",
    "    return  di.get(rollno)\n",
    "\n",
    "di={101:'Ajay', 102:'Rahul', 103:'Jay', 104:'Pooja'}\n",
    "\n",
    "rollno = 103\n",
    "\n",
    "print(getstu(di))"
   ]
  },
  {
   "cell_type": "markdown",
   "metadata": {},
   "source": [
    "### 10) Write a function to get the sum of the scores ending with zero.\n",
    "#### Example : scores = [200, 456, 300, 100, 234, 678] \n",
    "#### Ans = 200 + 300 + 100 = 600"
   ]
  },
  {
   "cell_type": "code",
   "execution_count": 6,
   "metadata": {},
   "outputs": [
    {
     "name": "stdout",
     "output_type": "stream",
     "text": [
      "600\n"
     ]
    }
   ],
   "source": [
    "scores = [200, 456, 300, 100, 234, 678]\n",
    "\n",
    "def sumofscore(li):\n",
    "    sum=0\n",
    "    for i in li:\n",
    "        if(i%10==0):\n",
    "            sum+=i\n",
    "    return sum\n",
    "print(sumofscore(scores))\n",
    "\n",
    "        "
   ]
  },
  {
   "cell_type": "markdown",
   "metadata": {},
   "source": [
    "### 11) Write a function to invert a given Dictionary.\n",
    "#### hint: keys to values & values to keys\n",
    "#### Before : {'a': 10, 'b':20, 'c':30, 'd':40}\n",
    "#### After : {10:'a', 20:'b', 30:'c', 40:'d'}"
   ]
  },
  {
   "cell_type": "code",
   "execution_count": 8,
   "metadata": {},
   "outputs": [
    {
     "name": "stdout",
     "output_type": "stream",
     "text": [
      "{10: 'a', 20: 'b', 30: 'c', 40: 'd'}\n"
     ]
    }
   ],
   "source": [
    "def invertdictionary(di):\n",
    "    return{v:k for k,v in di.items()}\n",
    "\n",
    "di = {'a': 10, 'b':20, 'c':30, 'd':40}\n",
    "\n",
    "print(invertdictionary(di))"
   ]
  },
  {
   "cell_type": "markdown",
   "metadata": {},
   "source": [
    "### 12) Write a function to check whether the given string is Pangram or not.\n",
    "#### hint: Pangram is a string containing all the characters a-z atlest once.\n",
    "#### \"the quick brown fox jumps over the lazy dog\" is a Pangram string."
   ]
  },
  {
   "cell_type": "code",
   "execution_count": 10,
   "metadata": {},
   "outputs": [
    {
     "name": "stdout",
     "output_type": "stream",
     "text": [
      "True\n"
     ]
    }
   ],
   "source": [
    "def check(str):\n",
    "    str==str.lower()\n",
    "    alphabet = 'qwertyuioplkjhgfdsazxcvbnm'\n",
    "    return all(char in str for char in alphabet)\n",
    "\n",
    "str='the quick brown fox jumps over the lazy dog'\n",
    "print(check(str))"
   ]
  },
  {
   "cell_type": "markdown",
   "metadata": {},
   "source": [
    "### 13) Write a function that returns the number of uppercase and lowercase letters in the given string. \n",
    "#### example : Input : s1 = AbcDEfgh ,Ouptput : no_upper = 3, no_lower = 5"
   ]
  },
  {
   "cell_type": "code",
   "execution_count": 3,
   "metadata": {},
   "outputs": [
    {
     "name": "stdout",
     "output_type": "stream",
     "text": [
      "(6, 7)\n"
     ]
    }
   ],
   "source": [
    "def countUpperLower(str):\n",
    "    upper = sum(1 for char in str if char.isupper())\n",
    "    lower = sum(1 for char in str if char.islower())\n",
    "    return upper,lower\n",
    "\n",
    "str='efgwedfHBGLHG'\n",
    "\n",
    "print(countUpperLower(str))"
   ]
  },
  {
   "cell_type": "markdown",
   "metadata": {},
   "source": [
    "### 14) Write a lambda function to get smallest number from the given two numbers."
   ]
  },
  {
   "cell_type": "code",
   "execution_count": null,
   "metadata": {},
   "outputs": [],
   "source": [
    "ans = lambda a,b: a if a<b else b\n",
    "\n",
    "print(ans(5,9))"
   ]
  },
  {
   "cell_type": "markdown",
   "metadata": {},
   "source": [
    "### 15) For the given list of names of students, extract the names having more that 7 characters. Use filter()."
   ]
  },
  {
   "cell_type": "code",
   "execution_count": null,
   "metadata": {},
   "outputs": [],
   "source": [
    "name=['ronit', 'shatrunjay', 'mihir', 'prem', 'vatsal', 'rudraraj', 'yashraja']\n",
    "\n",
    "selected_name=filter(lambda x: len(x)>7, name)\n",
    "print(list(selected_name))"
   ]
  },
  {
   "cell_type": "markdown",
   "metadata": {},
   "source": [
    "### 16) For the given list of names of students, convert the first letter of all the names into uppercase. use map()."
   ]
  },
  {
   "cell_type": "code",
   "execution_count": null,
   "metadata": {},
   "outputs": [],
   "source": [
    "name=map(lambda x: x[0].upper()+x[1:], name)\n",
    "\n",
    "print(list(name))"
   ]
  },
  {
   "cell_type": "markdown",
   "metadata": {},
   "source": [
    "### 17) Write udfs to call the functions with following types of arguments:\n",
    "1. Positional Arguments\n",
    "2. Keyword Arguments\n",
    "3. Default Arguments\n",
    "4. Variable Legngth Positional(*args) & variable length Keyword Arguments (**kwargs)\n",
    "5. Keyword-Only & Positional Only Arguments"
   ]
  },
  {
   "cell_type": "code",
   "execution_count": null,
   "metadata": {},
   "outputs": [],
   "source": [
    "# 1. Positional Arguments\n",
    "def positional_args(a, b):\n",
    "    return f\"Positional Args: a = {a}, b = {b}\"\n",
    "\n",
    "# 2. Keyword Arguments\n",
    "def keyword_args(a, b):\n",
    "    return f\"Keyword Args: a = {a}, b = {b}\"\n",
    "\n",
    "# 3. Default Arguments\n",
    "def default_args(a, b=10):\n",
    "    return f\"Default Args: a = {a}, b = {b}\"\n",
    "\n",
    "# 4. Variable Length Positional (*args) & Variable Length Keyword Arguments (**kwargs)\n",
    "def var_length_args(*args, **kwargs):\n",
    "    return f\"Var Length Positional Args: {args}, Var Length Keyword Args: {kwargs}\"\n",
    "\n",
    "# 5. Keyword-Only & Positional-Only Arguments\n",
    "def special_args(a, /, b, *, c):\n",
    "    return f\"Positional-Only a = {a}, Normal b = {b}, Keyword-Only c = {c}\"\n",
    "\n",
    "# Calling the UDFs\n",
    "print(positional_args(1, 2))\n",
    "print(keyword_args(a=3, b=4))\n",
    "print(default_args(5)) \n",
    "print(var_length_args(1, 2, 3, x=10, y=20))\n",
    "print(special_args(1, b=2, c=3))"
   ]
  }
 ],
 "metadata": {
  "kernelspec": {
   "display_name": "Python 3 (ipykernel)",
   "language": "python",
   "name": "python3"
  },
  "language_info": {
   "codemirror_mode": {
    "name": "ipython",
    "version": 3
   },
   "file_extension": ".py",
   "mimetype": "text/x-python",
   "name": "python",
   "nbconvert_exporter": "python",
   "pygments_lexer": "ipython3",
   "version": "3.10.9"
  }
 },
 "nbformat": 4,
 "nbformat_minor": 4
}
