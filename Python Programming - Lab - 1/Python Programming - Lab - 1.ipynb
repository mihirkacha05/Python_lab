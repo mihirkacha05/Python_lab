{
 "cells": [
  {
   "cell_type": "markdown",
   "metadata": {},
   "source": [
    "<a href='https://www.darshan.ac.in/'> <img src='https://www.darshan.ac.in/Content/media/DU_Logo.svg' width=\"250\" height=\"10\"/></a>\n",
    "<pre>\n",
    "<center><b><h1>Python Programming - 2301CS404</b></center>\n",
    "<center><b><h1>Lab - 1</b></center>    \n",
    "<center><b><h1>KACHA MIHIR | 23010101118 | 26/11/2024 </b></center>    \n",
    "<pre>"
   ]
  },
  {
   "cell_type": "markdown",
   "metadata": {},
   "source": [
    "### 01) WAP to print “Hello World”"
   ]
  },
  {
   "cell_type": "code",
   "execution_count": 1,
   "metadata": {},
   "outputs": [
    {
     "name": "stdout",
     "output_type": "stream",
     "text": [
      "Hello world...!\n"
     ]
    }
   ],
   "source": [
    "print(\"Hello world...!\")"
   ]
  },
  {
   "cell_type": "markdown",
   "metadata": {},
   "source": [
    "### 02) WAP to print addition of two numbers with and without using input()."
   ]
  },
  {
   "cell_type": "code",
   "execution_count": null,
   "metadata": {},
   "outputs": [
    {
     "name": "stdout",
     "output_type": "stream",
     "text": [
      "7\n",
      "enter a number4\n",
      "enter a number5\n",
      "9\n"
     ]
    }
   ],
   "source": [
    "a = 2\n",
    "b = 5\n",
    "print(a + b)\n",
    "\n",
    "c = int(input(\"enter a number :\"))\n",
    "d = int(input(\"enter a number :\"))\n",
    "\n",
    "print(c + d)"
   ]
  },
  {
   "cell_type": "markdown",
   "metadata": {},
   "source": [
    "### 03) WAP to check the type of the variable."
   ]
  },
  {
   "cell_type": "code",
   "execution_count": 5,
   "metadata": {},
   "outputs": [
    {
     "name": "stdout",
     "output_type": "stream",
     "text": [
      "<class 'int'>\n",
      "<class 'str'>\n",
      "<class 'float'>\n"
     ]
    }
   ],
   "source": [
    "a = 11\n",
    "b = \"mihir\"\n",
    "c = 6.9\n",
    "print(type(a))\n",
    "print(type(b))\n",
    "print(type(c))"
   ]
  },
  {
   "cell_type": "markdown",
   "metadata": {},
   "source": [
    "### 04) WAP to calculate simple interest."
   ]
  },
  {
   "cell_type": "code",
   "execution_count": 7,
   "metadata": {},
   "outputs": [
    {
     "name": "stdout",
     "output_type": "stream",
     "text": [
      "enter principal amount :1000\n",
      "enter interest rate :15\n",
      "enter time in years:5\n",
      "interest : 750.0\n",
      "total amount 1750.0\n"
     ]
    }
   ],
   "source": [
    "p = int(input(\"enter principal amount :\"))\n",
    "r =  int(input(\"enter interest rate :\"))\n",
    "t = int(input(\"enter time in years:\"))\n",
    "\n",
    "si = (p*r*t)/100\n",
    "\n",
    "print(\"interest :\",si)\n",
    "print(\"total amount\",si+p)"
   ]
  },
  {
   "cell_type": "markdown",
   "metadata": {},
   "source": [
    "### 05) WAP to calculate area and perimeter of a circle."
   ]
  },
  {
   "cell_type": "code",
   "execution_count": 11,
   "metadata": {},
   "outputs": [
    {
     "name": "stdout",
     "output_type": "stream",
     "text": [
      "enter the radius od circel: 100\n",
      "area = 31415.9265\n",
      "perimeter = 628.3185\n"
     ]
    }
   ],
   "source": [
    "import math\n",
    "r=float(input(\"enter the radius od circel: \"))\n",
    "\n",
    "area = math.pi*r*r\n",
    "\n",
    "perimeter = 2*math.pi*r\n",
    "\n",
    "print(\"area =\",\"%0.4f\"%area)\n",
    "print(\"perimeter =\",\"%0.4f\"%perimeter)\n",
    "\n",
    "\n"
   ]
  },
  {
   "cell_type": "markdown",
   "metadata": {},
   "source": [
    "### 06) WAP to calculate area of a triangle."
   ]
  },
  {
   "cell_type": "code",
   "execution_count": 12,
   "metadata": {},
   "outputs": [
    {
     "name": "stdout",
     "output_type": "stream",
     "text": [
      "enter the base :4\n",
      "enter the height :4\n",
      "area 8.0\n"
     ]
    }
   ],
   "source": [
    "base = int(input(\"enter the base :\"))\n",
    "height = int(input(\"enter the height :\"))\n",
    "\n",
    "area= (base*height)/2\n",
    "\n",
    "print(\"area\",area)"
   ]
  },
  {
   "cell_type": "markdown",
   "metadata": {},
   "source": [
    "### 07) WAP to compute quotient and remainder."
   ]
  },
  {
   "cell_type": "code",
   "execution_count": 14,
   "metadata": {},
   "outputs": [
    {
     "name": "stdout",
     "output_type": "stream",
     "text": [
      "quotient = 2\n",
      "remainder = 1\n"
     ]
    }
   ],
   "source": [
    "a=7\n",
    "b=3\n",
    "\n",
    "quotient = a//b\n",
    "remainder = a%b\n",
    "\n",
    "print(\"quotient =\",quotient)\n",
    "print(\"remainder =\",remainder)"
   ]
  },
  {
   "cell_type": "markdown",
   "metadata": {},
   "source": [
    "### 08) WAP to convert degree into Fahrenheit and vice versa."
   ]
  },
  {
   "cell_type": "code",
   "execution_count": 16,
   "metadata": {},
   "outputs": [
    {
     "name": "stdout",
     "output_type": "stream",
     "text": [
      "enter degree0\n",
      "Fahrenheit 32.0\n",
      "enter Fahrenheit32\n",
      "degree 0.0\n"
     ]
    }
   ],
   "source": [
    "degree = float (input(\"enter degree\"))\n",
    "\n",
    "Fahrenheit = (degree*9/5)+32\n",
    "\n",
    "print(\"Fahrenheit\",Fahrenheit)\n",
    "\n",
    "Fahrenheit = float (input(\"enter Fahrenheit\"))\n",
    "\n",
    "degree = (Fahrenheit-32)*5/9\n",
    "\n",
    "print(\"degree\",degree)"
   ]
  },
  {
   "cell_type": "markdown",
   "metadata": {},
   "source": [
    "### 09) WAP to find the distance between two points in 2-D space."
   ]
  },
  {
   "cell_type": "code",
   "execution_count": 21,
   "metadata": {},
   "outputs": [
    {
     "name": "stdout",
     "output_type": "stream",
     "text": [
      "enter coordinate x1 :1\n",
      "enter coordinate y1 :1\n",
      "enter coordinate x2 :2\n",
      "enter coordinate y2 :2\n",
      "1.4142135623730951\n"
     ]
    }
   ],
   "source": [
    "import math\n",
    "x1 = int(input(\"enter coordinate x1 :\"))\n",
    "y1 = int(input(\"enter coordinate y1 :\"))\n",
    "\n",
    "x2 = int(input(\"enter coordinate x2 :\"))\n",
    "y2 = int(input(\"enter coordinate y2 :\"))\n",
    "\n",
    "distance = math.sqrt((x2-x1)**2 + (y2-y1)**2)\n",
    "\n",
    "print(\"distance\",distance)"
   ]
  },
  {
   "cell_type": "markdown",
   "metadata": {},
   "source": [
    "# 10) WAP to print sum of n natural numbers."
   ]
  },
  {
   "cell_type": "code",
   "execution_count": 23,
   "metadata": {},
   "outputs": [
    {
     "name": "stdout",
     "output_type": "stream",
     "text": [
      "enter the number upto which you want sum5\n",
      "sum = 15.0\n"
     ]
    }
   ],
   "source": [
    "n = int (input(\"enter the number upto which you want sum :\"))\n",
    "\n",
    "sum = (n*(n+1))/2\n",
    "\n",
    "print(\"sum =\",sum)"
   ]
  },
  {
   "cell_type": "markdown",
   "metadata": {},
   "source": [
    "### 11) WAP to print sum of square of n natural numbers."
   ]
  },
  {
   "cell_type": "code",
   "execution_count": 26,
   "metadata": {},
   "outputs": [
    {
     "name": "stdout",
     "output_type": "stream",
     "text": [
      "enter the number upto which you want sum :5\n",
      "sum = 55.0\n"
     ]
    }
   ],
   "source": [
    "n = int (input(\"enter the number upto which you want sum :\"))\n",
    "\n",
    "sum = (n*(n+1)*(2*n+1))/6\n",
    "\n",
    "print(\"sum =\",sum)"
   ]
  },
  {
   "cell_type": "markdown",
   "metadata": {},
   "source": [
    "### 12) WAP to concate the first and last name of the student."
   ]
  },
  {
   "cell_type": "code",
   "execution_count": 27,
   "metadata": {},
   "outputs": [
    {
     "name": "stdout",
     "output_type": "stream",
     "text": [
      "enter first namemihir\n",
      "enter last namekacha\n",
      "fullname mihirkacha\n"
     ]
    }
   ],
   "source": [
    "firstname = input(\"enter first name\")\n",
    "lastname = input(\"enter last name\")\n",
    "\n",
    "fullname = firstname+lastname\n",
    "\n",
    "print(\"fullname\",fullname)"
   ]
  },
  {
   "cell_type": "markdown",
   "metadata": {},
   "source": [
    "### 13) WAP to swap two numbers."
   ]
  },
  {
   "cell_type": "code",
   "execution_count": 1,
   "metadata": {},
   "outputs": [
    {
     "name": "stdout",
     "output_type": "stream",
     "text": [
      "a =  8 b =  7\n"
     ]
    }
   ],
   "source": [
    "a = int(input(\"enter number in a :\"))\n",
    "b = int(input(\"enter number in b :\"))\n",
    "\n",
    "a,b=b,a\n",
    "\n",
    "print(\"a = \",a,\"b = \",b)"
   ]
  },
  {
   "cell_type": "markdown",
   "metadata": {},
   "source": [
    "### 14) WAP to get the distance from user into kilometer, and convert it into meter, feet, inches and centimeter."
   ]
  },
  {
   "cell_type": "code",
   "execution_count": null,
   "metadata": {},
   "outputs": [],
   "source": [
    "a = int(input(\"enter kilometer :\"))\n",
    "\n",
    "print(\"meter =\",a*1000)\n",
    "print(\"feet =\",a*3280.84)\n"
   ]
  },
  {
   "cell_type": "markdown",
   "metadata": {},
   "source": [
    "### 15) WAP to get day, month and year from the user and print the date in the given format: 23-11-2024."
   ]
  },
  {
   "cell_type": "code",
   "execution_count": 1,
   "metadata": {},
   "outputs": [
    {
     "name": "stdout",
     "output_type": "stream",
     "text": [
      "Enter day: 5\n",
      "Enter month: 4\n",
      "Enter year: 2005\n",
      "5-4-2005\n"
     ]
    }
   ],
   "source": [
    "day = int(input(\"Enter day: \"))\n",
    "month = int(input(\"Enter month: \"))\n",
    "year = int(input(\"Enter year: \"))\n",
    "\n",
    "print(day, month, year, sep=\"-\")"
   ]
  },
  {
   "cell_type": "code",
   "execution_count": null,
   "metadata": {},
   "outputs": [],
   "source": []
  }
 ],
 "metadata": {
  "kernelspec": {
   "display_name": "Python 3 (ipykernel)",
   "language": "python",
   "name": "python3"
  },
  "language_info": {
   "codemirror_mode": {
    "name": "ipython",
    "version": 3
   },
   "file_extension": ".py",
   "mimetype": "text/x-python",
   "name": "python",
   "nbconvert_exporter": "python",
   "pygments_lexer": "ipython3",
   "version": "3.10.9"
  }
 },
 "nbformat": 4,
 "nbformat_minor": 4
}
