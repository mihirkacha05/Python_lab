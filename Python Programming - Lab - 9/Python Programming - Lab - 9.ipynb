{
 "cells": [
  {
   "cell_type": "markdown",
   "metadata": {},
   "source": [
    "<a href='https://www.darshan.ac.in/'> <img src='https://www.darshan.ac.in/Content/media/DU_Logo.svg' width=\"250\" height=\"300\"/></a>\n",
    "<pre>\n",
    "<center><b><h1>Python Programming - 2301CS404</b></center>\n",
    "<center><b><h1>Lab - 9</b></center>    \n",
    "<center><b><h1>KACHA MIHIR | 23010101118 | 4/2/2025 </b></center>\n",
    "<pre>"
   ]
  },
  {
   "cell_type": "markdown",
   "metadata": {},
   "source": [
    "# File I/O"
   ]
  },
  {
   "cell_type": "markdown",
   "metadata": {},
   "source": [
    "### 01) WAP to read and display the contents of a text file. (also try to open the file in some other directory) \n",
    "#### - in the form of a string\n",
    "#### - line by line\n",
    "#### - in the form of a list"
   ]
  },
  {
   "cell_type": "code",
   "execution_count": 14,
   "metadata": {},
   "outputs": [
    {
     "name": "stdout",
     "output_type": "stream",
     "text": [
      "this is header text\n",
      "this is second line\n",
      "after this readline\n",
      "this is header text\n",
      "\n",
      "this is second line\n"
     ]
    },
    {
     "data": {
      "text/plain": [
       "<function TextIOWrapper.close()>"
      ]
     },
     "execution_count": 14,
     "metadata": {},
     "output_type": "execute_result"
    }
   ],
   "source": [
    "fp = open('../headder.txt','r')\n",
    "print(fp.read())\n",
    "fp.seek(0)\n",
    "print('after this readline')\n",
    "print(fp.readline())\n",
    "fp.seek(0)\n",
    "li = fp.readlines()\n",
    "print(li[1])\n",
    "fp.close\n"
   ]
  },
  {
   "cell_type": "markdown",
   "metadata": {},
   "source": [
    "### 02) WAP to create file named \"new.txt\" only if it doesn't exist."
   ]
  },
  {
   "cell_type": "code",
   "execution_count": 30,
   "metadata": {},
   "outputs": [],
   "source": [
    "fp = open('new.txt','a')\n",
    "fp.write(\"this is new txt file\\n\")\n",
    "fp.close()\n"
   ]
  },
  {
   "cell_type": "markdown",
   "metadata": {},
   "source": [
    "### 03) WAP to read first 5 lines from the text file."
   ]
  },
  {
   "cell_type": "code",
   "execution_count": 34,
   "metadata": {},
   "outputs": [
    {
     "name": "stdout",
     "output_type": "stream",
     "text": [
      "this is new txt file\n",
      "\n",
      "this is new txt file\n",
      "\n",
      "this is new txt file\n",
      "\n",
      "this is new txt file\n",
      "\n",
      "this is new txt file\n",
      "\n"
     ]
    }
   ],
   "source": [
    "fp = open('new.txt')\n",
    "for i in range(5):\n",
    "    print(fp.readline())\n",
    "fp.close()"
   ]
  },
  {
   "cell_type": "markdown",
   "metadata": {},
   "source": [
    "### 04) WAP to find the longest word(s) in a file"
   ]
  },
  {
   "cell_type": "code",
   "execution_count": 2,
   "metadata": {},
   "outputs": [
    {
     "name": "stdout",
     "output_type": "stream",
     "text": [
      "Longest word(s): ['this', 'file', 'this', 'file', 'this', 'file', 'this', 'file', 'this', 'file', 'this', 'file']\n"
     ]
    }
   ],
   "source": [
    "with open('new.txt', 'r') as file:\n",
    "    words = file.read().split()  \n",
    "    max_length = max(len(word) for word in words)  \n",
    "    longest_words = [word for word in words if len(word) == max_length]  \n",
    "    print(\"Longest word(s):\", longest_words)"
   ]
  },
  {
   "cell_type": "markdown",
   "metadata": {},
   "source": [
    "### 05) WAP to count the no. of lines, words and characters in a given text file."
   ]
  },
  {
   "cell_type": "code",
   "execution_count": 38,
   "metadata": {},
   "outputs": [
    {
     "name": "stdout",
     "output_type": "stream",
     "text": [
      "6\n",
      "30\n",
      "126\n"
     ]
    },
    {
     "data": {
      "text/plain": [
       "<function TextIOWrapper.close()>"
      ]
     },
     "execution_count": 38,
     "metadata": {},
     "output_type": "execute_result"
    }
   ],
   "source": [
    "fp = open('new.txt')\n",
    "line = 0\n",
    "for i in fp:\n",
    "    line+=1\n",
    "print(line)\n",
    "fp.close()\n",
    "\n",
    "fp = open('new.txt')\n",
    "word=0\n",
    "char=0\n",
    "str = fp.read()\n",
    "char = len(str)\n",
    "li = str.split()\n",
    "word = len(li)\n",
    "print(word)\n",
    "print(char)\n",
    "fp.close\n",
    "\n"
   ]
  },
  {
   "cell_type": "markdown",
   "metadata": {},
   "source": [
    "### 06) WAP to copy the content of a file to the another file."
   ]
  },
  {
   "cell_type": "code",
   "execution_count": 39,
   "metadata": {},
   "outputs": [],
   "source": [
    "fpr = open('new.txt','r')\n",
    "fpw = open('copy.txt','w')\n",
    "\n",
    "fpw.write(fpr.read())\n",
    "fpr.close()\n",
    "fpw.close()"
   ]
  },
  {
   "cell_type": "markdown",
   "metadata": {},
   "source": [
    "### 07) WAP to find the size of the text file. "
   ]
  },
  {
   "cell_type": "code",
   "execution_count": 40,
   "metadata": {},
   "outputs": [
    {
     "name": "stdout",
     "output_type": "stream",
     "text": [
      "125\n",
      "size =  125\n"
     ]
    }
   ],
   "source": [
    "fp = open('new.txt')\n",
    "char=0\n",
    "str = fp.read()\n",
    "char = len(str)\n",
    "print(char)\n",
    "fp.close\n",
    "print('size = ',char)\n"
   ]
  },
  {
   "cell_type": "markdown",
   "metadata": {},
   "source": [
    "### 08) WAP to create an UDF named frequency to count occurances of the specific word in a given text file."
   ]
  },
  {
   "cell_type": "code",
   "execution_count": 44,
   "metadata": {},
   "outputs": [
    {
     "name": "stdout",
     "output_type": "stream",
     "text": [
      "6\n"
     ]
    }
   ],
   "source": [
    " def frequency(fp,word):\n",
    "        count=0\n",
    "        str=fp.read()\n",
    "        li=str.lower().split()\n",
    "        \n",
    "        for i in li:\n",
    "            if(i==word.lower()):\n",
    "                count+=1\n",
    "        print(count)\n",
    "\n",
    "fp=open('copy.txt')\n",
    "frequency(fp,'is')\n",
    "        "
   ]
  },
  {
   "cell_type": "markdown",
   "metadata": {},
   "source": [
    "### 09) WAP to get the score of five subjects from the user, store them in a file. Fetch those marks and find the highest score."
   ]
  },
  {
   "cell_type": "code",
   "execution_count": 3,
   "metadata": {},
   "outputs": [
    {
     "name": "stdout",
     "output_type": "stream",
     "text": [
      "Enter marks for subject 1: 3\n",
      "Enter marks for subject 2: 4\n",
      "Enter marks for subject 3: 5\n",
      "Enter marks for subject 4: 6\n",
      "Enter marks for subject 5: 7\n",
      "\n",
      "Stored Scores: [3, 4, 5, 6, 7]\n",
      "Highest Score: 7\n"
     ]
    }
   ],
   "source": [
    "file_path = \"marks.txt\"\n",
    "\n",
    "scores = []\n",
    "for i in range(1, 6):\n",
    "    score = int(input(f\"Enter marks for subject {i}: \"))\n",
    "    scores.append(score)\n",
    "\n",
    "with open(file_path, 'w') as file:\n",
    "    file.write(\" \".join(map(str, scores))) \n",
    "\n",
    "with open(file_path, 'r') as file:\n",
    "    fetched_scores = list(map(int, file.read().split()))  \n",
    "    \n",
    "highest_score = max(fetched_scores)\n",
    "\n",
    "print(\"\\nStored Scores:\", fetched_scores)\n",
    "print(\"Highest Score:\", highest_score)"
   ]
  },
  {
   "cell_type": "markdown",
   "metadata": {},
   "source": [
    "### 10) WAP to write first 100 prime numbers to a file named primenumbers.txt \n",
    "(Note: each number should be in new line)"
   ]
  },
  {
   "cell_type": "code",
   "execution_count": 1,
   "metadata": {},
   "outputs": [
    {
     "name": "stdout",
     "output_type": "stream",
     "text": [
      "\n"
     ]
    }
   ],
   "source": [
    "import math\n",
    "def write_primenumbers(fp):\n",
    "    primes=[]\n",
    "    n=2\n",
    "    while len(primes)<100:\n",
    "        if isPrime(n):\n",
    "            primes.append(n)\n",
    "            fp.write(str(n)+'\\n')\n",
    "        n+=1\n",
    "\n",
    "def isPrime(n):\n",
    "    for i in range(2,int(math.sqrt(n))+1):\n",
    "        if n%i==0:\n",
    "            return False\n",
    "    return True\n",
    "\n",
    "fp=open('primenumbers.txt', 'a+')\n",
    "write_primenumbers(fp)\n",
    "print(fp.read())\n",
    "fp.close()"
   ]
  },
  {
   "cell_type": "markdown",
   "metadata": {},
   "source": [
    "### 11) WAP to merge two files and write it in a new file."
   ]
  },
  {
   "cell_type": "code",
   "execution_count": 49,
   "metadata": {},
   "outputs": [],
   "source": [
    "fp1=open('new.txt')\n",
    "fp2=open('copy.txt')\n",
    "fp3=open('mearge.txt','a')\n",
    "fp3.write(fp1.read())\n",
    "fp3.write(fp2.read())\n",
    "fp1.close()\n",
    "fp2.close()\n",
    "fp3.close()"
   ]
  },
  {
   "cell_type": "markdown",
   "metadata": {},
   "source": [
    "### 12) WAP to replace word1 by word2 of a text file. Write the updated data to new file."
   ]
  },
  {
   "cell_type": "code",
   "execution_count": 5,
   "metadata": {},
   "outputs": [],
   "source": [
    "fp=open(\"new.txt\", \"r+\")\n",
    "\n",
    "new_content=fp.read().replace('this', 'that')\n",
    "\n",
    "fp=open('new.txt', 'w')\n",
    "\n",
    "fp.write(new_content)\n",
    "\n",
    "fp.close()"
   ]
  },
  {
   "cell_type": "markdown",
   "metadata": {},
   "source": [
    "### 13) Demonstrate tell() and seek() for all the cases(seek from beginning-end-current position) taking a suitable example of your choice."
   ]
  },
  {
   "cell_type": "code",
   "execution_count": 7,
   "metadata": {},
   "outputs": [
    {
     "name": "stdout",
     "output_type": "stream",
     "text": [
      "Initial position: 0\n",
      "Position after seeking to beginning: 0\n",
      "Position after seeking 5 bytes from current position: 5\n",
      "Position after seeking to end: 264\n"
     ]
    }
   ],
   "source": [
    "fp=open('mearge.txt')\n",
    "\n",
    "print ('Initial position:', fp.tell())\n",
    "\n",
    "fp.seek(0,0)\n",
    "\n",
    "print ('Position after seeking to beginning:', fp.tell())\n",
    "\n",
    "fp.seek(5,0)\n",
    "\n",
    "print ('Position after seeking 5 bytes from current position:', fp.tell())\n",
    "\n",
    "fp.seek(0,2)\n",
    "\n",
    "print ('Position after seeking to end:', fp.tell())\n",
    "\n",
    "\n",
    "\n",
    "fp.close()"
   ]
  },
  {
   "cell_type": "code",
   "execution_count": null,
   "metadata": {},
   "outputs": [],
   "source": []
  }
 ],
 "metadata": {
  "kernelspec": {
   "display_name": "Python 3 (ipykernel)",
   "language": "python",
   "name": "python3"
  },
  "language_info": {
   "codemirror_mode": {
    "name": "ipython",
    "version": 3
   },
   "file_extension": ".py",
   "mimetype": "text/x-python",
   "name": "python",
   "nbconvert_exporter": "python",
   "pygments_lexer": "ipython3",
   "version": "3.10.9"
  }
 },
 "nbformat": 4,
 "nbformat_minor": 4
}
